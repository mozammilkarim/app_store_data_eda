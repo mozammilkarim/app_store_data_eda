{
 "cells": [
  {
   "cell_type": "code",
   "execution_count": 65,
   "metadata": {},
   "outputs": [],
   "source": [
    "import pandas as pd\n",
    "import ydata_profiling as yd\n",
    "import numpy as np"
   ]
  },
  {
   "cell_type": "code",
   "execution_count": 66,
   "metadata": {},
   "outputs": [
    {
     "name": "stdout",
     "output_type": "stream",
     "text": [
      "<class 'pandas.core.frame.DataFrame'>\n",
      "RangeIndex: 10841 entries, 0 to 10840\n",
      "Data columns (total 13 columns):\n",
      " #   Column          Non-Null Count  Dtype  \n",
      "---  ------          --------------  -----  \n",
      " 0   App             10841 non-null  object \n",
      " 1   Category        10840 non-null  object \n",
      " 2   Rating          9367 non-null   float64\n",
      " 3   Reviews         10841 non-null  int64  \n",
      " 4   Size            10841 non-null  object \n",
      " 5   Installs        10841 non-null  object \n",
      " 6   Type            10840 non-null  object \n",
      " 7   Price           10841 non-null  object \n",
      " 8   Content Rating  10841 non-null  object \n",
      " 9   Genres          10840 non-null  object \n",
      " 10  Last Updated    10841 non-null  object \n",
      " 11  Current Ver     10833 non-null  object \n",
      " 12  Android Ver     10839 non-null  object \n",
      "dtypes: float64(1), int64(1), object(11)\n",
      "memory usage: 1.1+ MB\n"
     ]
    }
   ],
   "source": [
    "df=pd.read_csv(\"googleplaystore.csv\")\n",
    "df.info()"
   ]
  },
  {
   "cell_type": "code",
   "execution_count": 67,
   "metadata": {},
   "outputs": [
    {
     "name": "stderr",
     "output_type": "stream",
     "text": [
      "Summarize dataset:   0%|          | 0/5 [00:00<?, ?it/s]"
     ]
    },
    {
     "name": "stderr",
     "output_type": "stream",
     "text": [
      "Summarize dataset:  75%|███████▌  | 15/20 [00:01<00:00,  8.96it/s, Calculate auto correlation]     c:\\Users\\Windows 10\\.conda\\envs\\d_science\\lib\\site-packages\\ydata_profiling\\model\\correlations.py:66: UserWarning: There was an attempt to calculate the auto correlation, but this failed.\n",
      "To hide this warning, disable the calculation\n",
      "(using `df.profile_report(correlations={\"auto\": {\"calculate\": False}})`\n",
      "If this is problematic for your use case, please report this as an issue:\n",
      "https://github.com/ydataai/ydata-profiling/issues\n",
      "(include the error message: 'could not convert string to float: '4.0.3 and up'')\n",
      "  warnings.warn(\n",
      "Summarize dataset:  81%|████████▏ | 22/27 [00:02<00:00,  5.39it/s, Missing diagram heatmap]   c:\\Users\\Windows 10\\.conda\\envs\\d_science\\lib\\site-packages\\seaborn\\matrix.py:260: FutureWarning: Format strings passed to MaskedConstant are ignored, but in future may error or produce different behavior\n",
      "  annotation = (\"{:\" + self.fmt + \"}\").format(val)\n",
      "c:\\Users\\Windows 10\\.conda\\envs\\d_science\\lib\\site-packages\\ydata_profiling\\model\\missing.py:78: UserWarning: There was an attempt to generate the Heatmap missing values diagrams, but this failed.\n",
      "To hide this warning, disable the calculation\n",
      "(using `df.profile_report(missing_diagrams={\"Heatmap\": False}`)\n",
      "If this is problematic for your use case, please report this as an issue:\n",
      "https://github.com/ydataai/ydata-profiling/issues\n",
      "(include the error message: 'could not convert string to float: '--'')\n",
      "  warnings.warn(\n",
      "Summarize dataset: 100%|██████████| 27/27 [00:03<00:00,  8.80it/s, Completed]               \n",
      "Generate report structure: 100%|██████████| 1/1 [00:07<00:00,  7.77s/it]\n",
      "Render HTML: 100%|██████████| 1/1 [00:01<00:00,  1.03s/it]\n",
      "Export report to file: 100%|██████████| 1/1 [00:00<00:00, 48.50it/s]\n"
     ]
    }
   ],
   "source": [
    "profile=yd.ProfileReport(df)\n",
    "profile.to_file(\"automatic_eda_profiler.html\")"
   ]
  },
  {
   "cell_type": "code",
   "execution_count": 68,
   "metadata": {},
   "outputs": [
    {
     "data": {
      "text/html": [
       "<div>\n",
       "<style scoped>\n",
       "    .dataframe tbody tr th:only-of-type {\n",
       "        vertical-align: middle;\n",
       "    }\n",
       "\n",
       "    .dataframe tbody tr th {\n",
       "        vertical-align: top;\n",
       "    }\n",
       "\n",
       "    .dataframe thead th {\n",
       "        text-align: right;\n",
       "    }\n",
       "</style>\n",
       "<table border=\"1\" class=\"dataframe\">\n",
       "  <thead>\n",
       "    <tr style=\"text-align: right;\">\n",
       "      <th></th>\n",
       "      <th>App</th>\n",
       "      <th>Category</th>\n",
       "      <th>Rating</th>\n",
       "      <th>Reviews</th>\n",
       "      <th>Size</th>\n",
       "      <th>Installs</th>\n",
       "      <th>Type</th>\n",
       "      <th>Price</th>\n",
       "      <th>Content Rating</th>\n",
       "      <th>Genres</th>\n",
       "      <th>Last Updated</th>\n",
       "      <th>Current Ver</th>\n",
       "      <th>Android Ver</th>\n",
       "    </tr>\n",
       "  </thead>\n",
       "  <tbody>\n",
       "    <tr>\n",
       "      <th>1664</th>\n",
       "      <td>Block Puzzle</td>\n",
       "      <td>GAME</td>\n",
       "      <td>4.6</td>\n",
       "      <td>59800</td>\n",
       "      <td>7.8M</td>\n",
       "      <td>5,000,000+</td>\n",
       "      <td>Free</td>\n",
       "      <td>0</td>\n",
       "      <td>Everyone</td>\n",
       "      <td>Puzzle</td>\n",
       "      <td>6-Mar-18</td>\n",
       "      <td>2.9</td>\n",
       "      <td>2.3 and up</td>\n",
       "    </tr>\n",
       "    <tr>\n",
       "      <th>6441</th>\n",
       "      <td>BL Taxi</td>\n",
       "      <td>MAPS_AND_NAVIGATION</td>\n",
       "      <td>4.9</td>\n",
       "      <td>124</td>\n",
       "      <td>3.4M</td>\n",
       "      <td>1,000+</td>\n",
       "      <td>Free</td>\n",
       "      <td>0</td>\n",
       "      <td>Everyone</td>\n",
       "      <td>Maps &amp; Navigation</td>\n",
       "      <td>26-Mar-18</td>\n",
       "      <td>Varies with device</td>\n",
       "      <td>Varies with device</td>\n",
       "    </tr>\n",
       "    <tr>\n",
       "      <th>3062</th>\n",
       "      <td>MLB At Bat</td>\n",
       "      <td>SPORTS</td>\n",
       "      <td>4.2</td>\n",
       "      <td>82883</td>\n",
       "      <td>Varies with device</td>\n",
       "      <td>5,000,000+</td>\n",
       "      <td>Free</td>\n",
       "      <td>0</td>\n",
       "      <td>Everyone</td>\n",
       "      <td>Sports</td>\n",
       "      <td>30-Jul-18</td>\n",
       "      <td>Varies with device</td>\n",
       "      <td>Varies with device</td>\n",
       "    </tr>\n",
       "    <tr>\n",
       "      <th>7508</th>\n",
       "      <td>DAILY: Free Classifieds App for Android</td>\n",
       "      <td>LIFESTYLE</td>\n",
       "      <td>4.1</td>\n",
       "      <td>5025</td>\n",
       "      <td>Varies with device</td>\n",
       "      <td>500,000+</td>\n",
       "      <td>Free</td>\n",
       "      <td>0</td>\n",
       "      <td>Mature 17+</td>\n",
       "      <td>Lifestyle</td>\n",
       "      <td>2-Aug-18</td>\n",
       "      <td>Varies with device</td>\n",
       "      <td>Varies with device</td>\n",
       "    </tr>\n",
       "    <tr>\n",
       "      <th>7511</th>\n",
       "      <td>Car Search For Craigslist CL Free</td>\n",
       "      <td>AUTO_AND_VEHICLES</td>\n",
       "      <td>2.6</td>\n",
       "      <td>5</td>\n",
       "      <td>9.0M</td>\n",
       "      <td>1,000+</td>\n",
       "      <td>Free</td>\n",
       "      <td>0</td>\n",
       "      <td>Everyone</td>\n",
       "      <td>Auto &amp; Vehicles</td>\n",
       "      <td>8-May-18</td>\n",
       "      <td>1.0.0</td>\n",
       "      <td>2.3.3 and up</td>\n",
       "    </tr>\n",
       "    <tr>\n",
       "      <th>6379</th>\n",
       "      <td>Hungry Girl Diet Bk. Companion</td>\n",
       "      <td>HEALTH_AND_FITNESS</td>\n",
       "      <td>2.2</td>\n",
       "      <td>4</td>\n",
       "      <td>28M</td>\n",
       "      <td>1,000+</td>\n",
       "      <td>Free</td>\n",
       "      <td>0</td>\n",
       "      <td>Everyone</td>\n",
       "      <td>Health &amp; Fitness</td>\n",
       "      <td>1-Feb-18</td>\n",
       "      <td>1.1.3</td>\n",
       "      <td>4.0 and up</td>\n",
       "    </tr>\n",
       "    <tr>\n",
       "      <th>434</th>\n",
       "      <td>Full Screen Caller ID</td>\n",
       "      <td>COMMUNICATION</td>\n",
       "      <td>4.2</td>\n",
       "      <td>104990</td>\n",
       "      <td>10M</td>\n",
       "      <td>5,000,000+</td>\n",
       "      <td>Free</td>\n",
       "      <td>0</td>\n",
       "      <td>Everyone</td>\n",
       "      <td>Communication</td>\n",
       "      <td>15-May-18</td>\n",
       "      <td>3.5.0</td>\n",
       "      <td>4.0.3 and up</td>\n",
       "    </tr>\n",
       "    <tr>\n",
       "      <th>731</th>\n",
       "      <td>English words application mikan</td>\n",
       "      <td>EDUCATION</td>\n",
       "      <td>4.7</td>\n",
       "      <td>9888</td>\n",
       "      <td>Varies with device</td>\n",
       "      <td>500,000+</td>\n",
       "      <td>Free</td>\n",
       "      <td>0</td>\n",
       "      <td>Everyone</td>\n",
       "      <td>Education</td>\n",
       "      <td>30-Jul-18</td>\n",
       "      <td>Varies with device</td>\n",
       "      <td>4.1 and up</td>\n",
       "    </tr>\n",
       "    <tr>\n",
       "      <th>7573</th>\n",
       "      <td>Ruler &amp; Area Measurement (cm, inch)</td>\n",
       "      <td>TOOLS</td>\n",
       "      <td>4.3</td>\n",
       "      <td>10</td>\n",
       "      <td>8.2M</td>\n",
       "      <td>10,000+</td>\n",
       "      <td>Free</td>\n",
       "      <td>0</td>\n",
       "      <td>Everyone</td>\n",
       "      <td>Tools</td>\n",
       "      <td>28-Jul-17</td>\n",
       "      <td>1.2</td>\n",
       "      <td>4.1 and up</td>\n",
       "    </tr>\n",
       "    <tr>\n",
       "      <th>1514</th>\n",
       "      <td>Public Digital Library</td>\n",
       "      <td>LIBRARIES_AND_DEMO</td>\n",
       "      <td>3.9</td>\n",
       "      <td>2087</td>\n",
       "      <td>Varies with device</td>\n",
       "      <td>50,000+</td>\n",
       "      <td>Free</td>\n",
       "      <td>0</td>\n",
       "      <td>Everyone</td>\n",
       "      <td>Libraries &amp; Demo</td>\n",
       "      <td>30-Jul-18</td>\n",
       "      <td>Varies with device</td>\n",
       "      <td>Varies with device</td>\n",
       "    </tr>\n",
       "  </tbody>\n",
       "</table>\n",
       "</div>"
      ],
      "text/plain": [
       "                                          App             Category  Rating  \\\n",
       "1664                             Block Puzzle                 GAME     4.6   \n",
       "6441                                  BL Taxi  MAPS_AND_NAVIGATION     4.9   \n",
       "3062                               MLB At Bat               SPORTS     4.2   \n",
       "7508  DAILY: Free Classifieds App for Android            LIFESTYLE     4.1   \n",
       "7511        Car Search For Craigslist CL Free    AUTO_AND_VEHICLES     2.6   \n",
       "6379           Hungry Girl Diet Bk. Companion   HEALTH_AND_FITNESS     2.2   \n",
       "434                     Full Screen Caller ID        COMMUNICATION     4.2   \n",
       "731           English words application mikan            EDUCATION     4.7   \n",
       "7573      Ruler & Area Measurement (cm, inch)                TOOLS     4.3   \n",
       "1514                   Public Digital Library   LIBRARIES_AND_DEMO     3.9   \n",
       "\n",
       "      Reviews                Size    Installs  Type Price Content Rating  \\\n",
       "1664    59800                7.8M  5,000,000+  Free     0       Everyone   \n",
       "6441      124                3.4M      1,000+  Free     0       Everyone   \n",
       "3062    82883  Varies with device  5,000,000+  Free     0       Everyone   \n",
       "7508     5025  Varies with device    500,000+  Free     0     Mature 17+   \n",
       "7511        5                9.0M      1,000+  Free     0       Everyone   \n",
       "6379        4                 28M      1,000+  Free     0       Everyone   \n",
       "434    104990                 10M  5,000,000+  Free     0       Everyone   \n",
       "731      9888  Varies with device    500,000+  Free     0       Everyone   \n",
       "7573       10                8.2M     10,000+  Free     0       Everyone   \n",
       "1514     2087  Varies with device     50,000+  Free     0       Everyone   \n",
       "\n",
       "                 Genres Last Updated         Current Ver         Android Ver  \n",
       "1664             Puzzle     6-Mar-18                 2.9          2.3 and up  \n",
       "6441  Maps & Navigation    26-Mar-18  Varies with device  Varies with device  \n",
       "3062             Sports    30-Jul-18  Varies with device  Varies with device  \n",
       "7508          Lifestyle     2-Aug-18  Varies with device  Varies with device  \n",
       "7511    Auto & Vehicles     8-May-18               1.0.0        2.3.3 and up  \n",
       "6379   Health & Fitness     1-Feb-18               1.1.3          4.0 and up  \n",
       "434       Communication    15-May-18               3.5.0        4.0.3 and up  \n",
       "731           Education    30-Jul-18  Varies with device          4.1 and up  \n",
       "7573              Tools    28-Jul-17                 1.2          4.1 and up  \n",
       "1514   Libraries & Demo    30-Jul-18  Varies with device  Varies with device  "
      ]
     },
     "execution_count": 68,
     "metadata": {},
     "output_type": "execute_result"
    }
   ],
   "source": [
    "df.sample(10)"
   ]
  },
  {
   "cell_type": "code",
   "execution_count": 69,
   "metadata": {},
   "outputs": [
    {
     "data": {
      "text/plain": [
       "Price\n",
       "0          10041\n",
       "$0.99        148\n",
       "$2.99        129\n",
       "$1.99         73\n",
       "$4.99         72\n",
       "           ...  \n",
       "$19.90         1\n",
       "$1.75          1\n",
       "$14.00         1\n",
       "$4.85          1\n",
       "$1.04          1\n",
       "Name: count, Length: 92, dtype: int64"
      ]
     },
     "execution_count": 69,
     "metadata": {},
     "output_type": "execute_result"
    }
   ],
   "source": [
    "df[\"Price\"].value_counts()"
   ]
  },
  {
   "cell_type": "code",
   "execution_count": 70,
   "metadata": {},
   "outputs": [],
   "source": [
    "# drop duplicate rows\n",
    "df.drop_duplicates(inplace=True)"
   ]
  },
  {
   "cell_type": "code",
   "execution_count": 71,
   "metadata": {},
   "outputs": [
    {
     "data": {
      "text/plain": [
       "Size\n",
       "Varies with device    1526\n",
       "11M                    188\n",
       "13M                    186\n",
       "12M                    186\n",
       "14M                    182\n",
       "                      ... \n",
       "430k                     1\n",
       "429k                     1\n",
       "200k                     1\n",
       "460k                     1\n",
       "619k                     1\n",
       "Name: count, Length: 461, dtype: int64"
      ]
     },
     "execution_count": 71,
     "metadata": {},
     "output_type": "execute_result"
    }
   ],
   "source": [
    "df[\"Size\"].value_counts()"
   ]
  },
  {
   "cell_type": "markdown",
   "metadata": {},
   "source": [
    "## Because of typecasting issue with nan , first we will convert k into M, remove M (as all data will be in M unit ) and then deal with nan"
   ]
  },
  {
   "cell_type": "code",
   "execution_count": 72,
   "metadata": {},
   "outputs": [
    {
     "data": {
      "text/plain": [
       "Size\n",
       "Varies with device    1526\n",
       "11M                    188\n",
       "13M                    186\n",
       "12M                    186\n",
       "14M                    182\n",
       "                      ... \n",
       "430k                     1\n",
       "429k                     1\n",
       "200k                     1\n",
       "460k                     1\n",
       "619k                     1\n",
       "Name: count, Length: 461, dtype: int64"
      ]
     },
     "execution_count": 72,
     "metadata": {},
     "output_type": "execute_result"
    }
   ],
   "source": [
    "df[\"Size\"].value_counts()"
   ]
  },
  {
   "cell_type": "code",
   "execution_count": 73,
   "metadata": {},
   "outputs": [],
   "source": [
    "def convert_data_sizes(val):\n",
    "    if 'k' in val:\n",
    "        return (float((val.split(\"k\"))[0])/1024)\n",
    "    elif 'M' in val:\n",
    "        return (val.split(\"M\"))[0]\n",
    "    else :\n",
    "        return np.nan"
   ]
  },
  {
   "cell_type": "code",
   "execution_count": 74,
   "metadata": {},
   "outputs": [],
   "source": [
    "df[\"Size\"]=df[\"Size\"].apply(convert_data_sizes)"
   ]
  },
  {
   "cell_type": "code",
   "execution_count": 75,
   "metadata": {},
   "outputs": [
    {
     "data": {
      "text/plain": [
       "Size\n",
       "11          188\n",
       "12          186\n",
       "13          186\n",
       "14          182\n",
       "15          174\n",
       "           ... \n",
       "0.419922      1\n",
       "0.418945      1\n",
       "0.195312      1\n",
       "0.449219      1\n",
       "0.604492      1\n",
       "Name: count, Length: 460, dtype: int64"
      ]
     },
     "execution_count": 75,
     "metadata": {},
     "output_type": "execute_result"
    }
   ],
   "source": [
    "df[\"Size\"].value_counts()"
   ]
  },
  {
   "cell_type": "code",
   "execution_count": 76,
   "metadata": {},
   "outputs": [
    {
     "data": {
      "text/plain": [
       "1508     30\n",
       "1904     17\n",
       "2471    3.5\n",
       "1479     16\n",
       "1891    NaN\n",
       "Name: Size, dtype: object"
      ]
     },
     "execution_count": 76,
     "metadata": {},
     "output_type": "execute_result"
    }
   ],
   "source": [
    "df[\"Size\"].sample(5)"
   ]
  },
  {
   "cell_type": "code",
   "execution_count": 77,
   "metadata": {},
   "outputs": [],
   "source": [
    "# df[df[\"Size\"]=='Varies with device'][\"Size\"].replace(to_replace=\"Varies with device\",value=np.nan,inplace=True)"
   ]
  },
  {
   "cell_type": "code",
   "execution_count": 78,
   "metadata": {},
   "outputs": [
    {
     "data": {
      "text/plain": [
       "dtype('O')"
      ]
     },
     "execution_count": 78,
     "metadata": {},
     "output_type": "execute_result"
    }
   ],
   "source": [
    "df[\"Size\"].dtype"
   ]
  },
  {
   "cell_type": "code",
   "execution_count": 79,
   "metadata": {},
   "outputs": [],
   "source": [
    "df[\"Size\"]=df[\"Size\"].astype(dtype=\"float64\")"
   ]
  },
  {
   "cell_type": "code",
   "execution_count": 80,
   "metadata": {},
   "outputs": [
    {
     "data": {
      "text/plain": [
       "dtype('float64')"
      ]
     },
     "execution_count": 80,
     "metadata": {},
     "output_type": "execute_result"
    }
   ],
   "source": [
    "df[\"Size\"].dtype"
   ]
  },
  {
   "cell_type": "markdown",
   "metadata": {},
   "source": [
    "# coming to installs\n"
   ]
  },
  {
   "cell_type": "code",
   "execution_count": 81,
   "metadata": {},
   "outputs": [],
   "source": [
    "def remove_plus_sign(val):\n",
    "    val=val.replace(\",\",\"\") \n",
    "    # converting ',' based numbers to base 10 numbers\n",
    "    if '+' in val:\n",
    "        return int((val.split(\"+\"))[0])\n",
    "    else :\n",
    "        return int(val)"
   ]
  },
  {
   "cell_type": "code",
   "execution_count": 82,
   "metadata": {},
   "outputs": [
    {
     "data": {
      "text/plain": [
       "'1000000'"
      ]
     },
     "execution_count": 82,
     "metadata": {},
     "output_type": "execute_result"
    }
   ],
   "source": [
    "\"1000,000\".replace(\",\",\"\") "
   ]
  },
  {
   "cell_type": "code",
   "execution_count": 83,
   "metadata": {},
   "outputs": [],
   "source": [
    "df[\"Installs\"]=df[\"Installs\"].apply(remove_plus_sign)"
   ]
  },
  {
   "cell_type": "code",
   "execution_count": 84,
   "metadata": {},
   "outputs": [
    {
     "data": {
      "text/plain": [
       "dtype('int64')"
      ]
     },
     "execution_count": 84,
     "metadata": {},
     "output_type": "execute_result"
    }
   ],
   "source": [
    "df[\"Installs\"].dtype"
   ]
  },
  {
   "cell_type": "code",
   "execution_count": 85,
   "metadata": {},
   "outputs": [
    {
     "data": {
      "text/html": [
       "<div>\n",
       "<style scoped>\n",
       "    .dataframe tbody tr th:only-of-type {\n",
       "        vertical-align: middle;\n",
       "    }\n",
       "\n",
       "    .dataframe tbody tr th {\n",
       "        vertical-align: top;\n",
       "    }\n",
       "\n",
       "    .dataframe thead th {\n",
       "        text-align: right;\n",
       "    }\n",
       "</style>\n",
       "<table border=\"1\" class=\"dataframe\">\n",
       "  <thead>\n",
       "    <tr style=\"text-align: right;\">\n",
       "      <th></th>\n",
       "      <th>App</th>\n",
       "      <th>Category</th>\n",
       "      <th>Rating</th>\n",
       "      <th>Reviews</th>\n",
       "      <th>Size</th>\n",
       "      <th>Installs</th>\n",
       "      <th>Type</th>\n",
       "      <th>Price</th>\n",
       "      <th>Content Rating</th>\n",
       "      <th>Genres</th>\n",
       "      <th>Last Updated</th>\n",
       "      <th>Current Ver</th>\n",
       "      <th>Android Ver</th>\n",
       "    </tr>\n",
       "  </thead>\n",
       "  <tbody>\n",
       "    <tr>\n",
       "      <th>10295</th>\n",
       "      <td>Sports Lite</td>\n",
       "      <td>SPORTS</td>\n",
       "      <td>4.4</td>\n",
       "      <td>16</td>\n",
       "      <td>4.900000</td>\n",
       "      <td>1000</td>\n",
       "      <td>Free</td>\n",
       "      <td>0</td>\n",
       "      <td>Everyone</td>\n",
       "      <td>Sports</td>\n",
       "      <td>31-Jul-18</td>\n",
       "      <td>1</td>\n",
       "      <td>4.0.3 and up</td>\n",
       "    </tr>\n",
       "    <tr>\n",
       "      <th>5523</th>\n",
       "      <td>Dungeon Quest</td>\n",
       "      <td>FAMILY</td>\n",
       "      <td>4.5</td>\n",
       "      <td>244039</td>\n",
       "      <td>46.000000</td>\n",
       "      <td>5000000</td>\n",
       "      <td>Free</td>\n",
       "      <td>0</td>\n",
       "      <td>Everyone 10+</td>\n",
       "      <td>Role Playing</td>\n",
       "      <td>4-Jun-18</td>\n",
       "      <td>3.0.5.2</td>\n",
       "      <td>4.0 and up</td>\n",
       "    </tr>\n",
       "    <tr>\n",
       "      <th>3628</th>\n",
       "      <td>AccuWeather: Daily Forecast &amp; Live Weather Rep...</td>\n",
       "      <td>WEATHER</td>\n",
       "      <td>4.4</td>\n",
       "      <td>2053404</td>\n",
       "      <td>NaN</td>\n",
       "      <td>50000000</td>\n",
       "      <td>Free</td>\n",
       "      <td>0</td>\n",
       "      <td>Everyone</td>\n",
       "      <td>Weather</td>\n",
       "      <td>6-Aug-18</td>\n",
       "      <td>Varies with device</td>\n",
       "      <td>Varies with device</td>\n",
       "    </tr>\n",
       "    <tr>\n",
       "      <th>5575</th>\n",
       "      <td>AS - Diario online deportivo. Fútbol, motor y más</td>\n",
       "      <td>NEWS_AND_MAGAZINES</td>\n",
       "      <td>NaN</td>\n",
       "      <td>0</td>\n",
       "      <td>6.000000</td>\n",
       "      <td>50</td>\n",
       "      <td>Free</td>\n",
       "      <td>0</td>\n",
       "      <td>Everyone</td>\n",
       "      <td>News &amp; Magazines</td>\n",
       "      <td>24-Jun-18</td>\n",
       "      <td>7.8</td>\n",
       "      <td>4.1 and up</td>\n",
       "    </tr>\n",
       "    <tr>\n",
       "      <th>7430</th>\n",
       "      <td>CJ Poker Odds Calculator</td>\n",
       "      <td>GAME</td>\n",
       "      <td>4.1</td>\n",
       "      <td>207</td>\n",
       "      <td>0.113281</td>\n",
       "      <td>50000</td>\n",
       "      <td>Free</td>\n",
       "      <td>0</td>\n",
       "      <td>Everyone</td>\n",
       "      <td>Card</td>\n",
       "      <td>30-Jan-11</td>\n",
       "      <td>1.2</td>\n",
       "      <td>1.6 and up</td>\n",
       "    </tr>\n",
       "  </tbody>\n",
       "</table>\n",
       "</div>"
      ],
      "text/plain": [
       "                                                     App            Category  \\\n",
       "10295                                        Sports Lite              SPORTS   \n",
       "5523                                       Dungeon Quest              FAMILY   \n",
       "3628   AccuWeather: Daily Forecast & Live Weather Rep...             WEATHER   \n",
       "5575   AS - Diario online deportivo. Fútbol, motor y más  NEWS_AND_MAGAZINES   \n",
       "7430                            CJ Poker Odds Calculator                GAME   \n",
       "\n",
       "       Rating  Reviews       Size  Installs  Type Price Content Rating  \\\n",
       "10295     4.4       16   4.900000      1000  Free     0       Everyone   \n",
       "5523      4.5   244039  46.000000   5000000  Free     0   Everyone 10+   \n",
       "3628      4.4  2053404        NaN  50000000  Free     0       Everyone   \n",
       "5575      NaN        0   6.000000        50  Free     0       Everyone   \n",
       "7430      4.1      207   0.113281     50000  Free     0       Everyone   \n",
       "\n",
       "                 Genres Last Updated         Current Ver         Android Ver  \n",
       "10295            Sports    31-Jul-18                   1        4.0.3 and up  \n",
       "5523       Role Playing     4-Jun-18             3.0.5.2          4.0 and up  \n",
       "3628            Weather     6-Aug-18  Varies with device  Varies with device  \n",
       "5575   News & Magazines    24-Jun-18                 7.8          4.1 and up  \n",
       "7430               Card    30-Jan-11                 1.2          1.6 and up  "
      ]
     },
     "execution_count": 85,
     "metadata": {},
     "output_type": "execute_result"
    }
   ],
   "source": [
    "# grouping\n",
    "df.sample(5)"
   ]
  },
  {
   "cell_type": "code",
   "execution_count": 86,
   "metadata": {},
   "outputs": [],
   "source": [
    "labels=[\"no download\",\"low\",\"medium\",\"more than medium\",\"high download\",\"top notch\"]\n",
    "bins=[-1,0,100,1000,10000,100000,1000000]"
   ]
  },
  {
   "cell_type": "code",
   "execution_count": 87,
   "metadata": {},
   "outputs": [],
   "source": [
    "df[\"Installs_category\"]=pd.cut(df[\"Installs\"],bins=bins,labels=labels)"
   ]
  },
  {
   "cell_type": "code",
   "execution_count": 88,
   "metadata": {},
   "outputs": [
    {
     "data": {
      "text/plain": [
       "Price\n",
       "$8.49       2\n",
       "$1.50       1\n",
       "$1.59       1\n",
       "$25.99      1\n",
       "$4.85       1\n",
       "$3.88       1\n",
       "$6.49       5\n",
       "$394.99     1\n",
       "$28.99      1\n",
       "$4.80       1\n",
       "Name: count, dtype: int64"
      ]
     },
     "execution_count": 88,
     "metadata": {},
     "output_type": "execute_result"
    }
   ],
   "source": [
    "df[\"Price\"].value_counts().sample(10)"
   ]
  },
  {
   "cell_type": "code",
   "execution_count": 89,
   "metadata": {},
   "outputs": [],
   "source": [
    "# setting price feature\n",
    "# df[\"Price\"].replace(to_replace=\"$\",value=\"\") # it didn't worked\n",
    "df[\"Price\"]=df[\"Price\"].apply(lambda x: x.replace('$','') if '$' in str(x) else x)\n",
    "df[\"Price\"]=df[\"Price\"].apply(lambda x: float(x))"
   ]
  },
  {
   "cell_type": "code",
   "execution_count": 90,
   "metadata": {},
   "outputs": [
    {
     "data": {
      "text/plain": [
       "Price\n",
       "0.00      9593\n",
       "0.99       146\n",
       "2.99       125\n",
       "1.99        73\n",
       "4.99        70\n",
       "          ... \n",
       "389.99       1\n",
       "19.90        1\n",
       "1.75         1\n",
       "14.00        1\n",
       "1.04         1\n",
       "Name: count, Length: 92, dtype: int64"
      ]
     },
     "execution_count": 90,
     "metadata": {},
     "output_type": "execute_result"
    }
   ],
   "source": [
    "df[\"Price\"].value_counts()"
   ]
  },
  {
   "cell_type": "code",
   "execution_count": 91,
   "metadata": {},
   "outputs": [
    {
     "data": {
      "text/plain": [
       "dtype('float64')"
      ]
     },
     "execution_count": 91,
     "metadata": {},
     "output_type": "execute_result"
    }
   ],
   "source": [
    "df[\"Rating\"].dtype"
   ]
  },
  {
   "cell_type": "code",
   "execution_count": 92,
   "metadata": {},
   "outputs": [
    {
     "name": "stdout",
     "output_type": "stream",
     "text": [
      "Min price is: 0.0 $\n",
      "Max price is: 400.0 $\n",
      "Average price is: 1.0307009075111024 $\n"
     ]
    }
   ],
   "source": [
    "# using f string to print the min, max and average price of the apps\n",
    "print(f\"Min price is: {df['Price'].min()} $\")\n",
    "print(f\"Max price is: {df['Price'].max()} $\")\n",
    "print(f\"Average price is: {df['Price'].mean()} $\")"
   ]
  },
  {
   "cell_type": "code",
   "execution_count": 93,
   "metadata": {},
   "outputs": [
    {
     "ename": "TypeError",
     "evalue": "replace() argument 2 must be str, not float",
     "output_type": "error",
     "traceback": [
      "\u001b[1;31m---------------------------------------------------------------------------\u001b[0m",
      "\u001b[1;31mTypeError\u001b[0m                                 Traceback (most recent call last)",
      "Cell \u001b[1;32mIn[93], line 1\u001b[0m\n\u001b[1;32m----> 1\u001b[0m df[\u001b[38;5;124m\"\u001b[39m\u001b[38;5;124mAndroid Ver\u001b[39m\u001b[38;5;124m\"\u001b[39m]\u001b[38;5;241m=\u001b[39m\u001b[43mdf\u001b[49m\u001b[43m[\u001b[49m\u001b[38;5;124;43m\"\u001b[39;49m\u001b[38;5;124;43mAndroid Ver\u001b[39;49m\u001b[38;5;124;43m\"\u001b[39;49m\u001b[43m]\u001b[49m\u001b[38;5;241;43m.\u001b[39;49m\u001b[43mapply\u001b[49m\u001b[43m(\u001b[49m\u001b[38;5;28;43;01mlambda\u001b[39;49;00m\u001b[43m \u001b[49m\u001b[43mx\u001b[49m\u001b[43m:\u001b[49m\u001b[43m \u001b[49m\u001b[43mx\u001b[49m\u001b[38;5;241;43m.\u001b[39;49m\u001b[43mreplace\u001b[49m\u001b[43m(\u001b[49m\u001b[38;5;124;43m\"\u001b[39;49m\u001b[38;5;124;43mVaries with device\u001b[39;49m\u001b[38;5;124;43m\"\u001b[39;49m\u001b[43m,\u001b[49m\u001b[43m(\u001b[49m\u001b[43mnp\u001b[49m\u001b[38;5;241;43m.\u001b[39;49m\u001b[43mnan\u001b[49m\u001b[43m)\u001b[49m\u001b[43m)\u001b[49m\u001b[43m \u001b[49m\u001b[38;5;28;43;01mif\u001b[39;49;00m\u001b[43m \u001b[49m\u001b[38;5;124;43m\"\u001b[39;49m\u001b[38;5;124;43mVaries with device\u001b[39;49m\u001b[38;5;124;43m\"\u001b[39;49m\u001b[43m \u001b[49m\u001b[38;5;129;43;01min\u001b[39;49;00m\u001b[43m \u001b[49m\u001b[38;5;28;43mstr\u001b[39;49m\u001b[43m(\u001b[49m\u001b[43mx\u001b[49m\u001b[43m)\u001b[49m\u001b[43m \u001b[49m\u001b[38;5;28;43;01melse\u001b[39;49;00m\u001b[43m \u001b[49m\u001b[43mx\u001b[49m\u001b[43m)\u001b[49m\n",
      "File \u001b[1;32mc:\\Users\\Windows 10\\.conda\\envs\\d_science\\lib\\site-packages\\pandas\\core\\series.py:4915\u001b[0m, in \u001b[0;36mSeries.apply\u001b[1;34m(self, func, convert_dtype, args, by_row, **kwargs)\u001b[0m\n\u001b[0;32m   4780\u001b[0m \u001b[38;5;28;01mdef\u001b[39;00m \u001b[38;5;21mapply\u001b[39m(\n\u001b[0;32m   4781\u001b[0m     \u001b[38;5;28mself\u001b[39m,\n\u001b[0;32m   4782\u001b[0m     func: AggFuncType,\n\u001b[1;32m   (...)\u001b[0m\n\u001b[0;32m   4787\u001b[0m     \u001b[38;5;241m*\u001b[39m\u001b[38;5;241m*\u001b[39mkwargs,\n\u001b[0;32m   4788\u001b[0m ) \u001b[38;5;241m-\u001b[39m\u001b[38;5;241m>\u001b[39m DataFrame \u001b[38;5;241m|\u001b[39m Series:\n\u001b[0;32m   4789\u001b[0m \u001b[38;5;250m    \u001b[39m\u001b[38;5;124;03m\"\"\"\u001b[39;00m\n\u001b[0;32m   4790\u001b[0m \u001b[38;5;124;03m    Invoke function on values of Series.\u001b[39;00m\n\u001b[0;32m   4791\u001b[0m \n\u001b[1;32m   (...)\u001b[0m\n\u001b[0;32m   4906\u001b[0m \u001b[38;5;124;03m    dtype: float64\u001b[39;00m\n\u001b[0;32m   4907\u001b[0m \u001b[38;5;124;03m    \"\"\"\u001b[39;00m\n\u001b[0;32m   4908\u001b[0m     \u001b[38;5;28;01mreturn\u001b[39;00m \u001b[43mSeriesApply\u001b[49m\u001b[43m(\u001b[49m\n\u001b[0;32m   4909\u001b[0m \u001b[43m        \u001b[49m\u001b[38;5;28;43mself\u001b[39;49m\u001b[43m,\u001b[49m\n\u001b[0;32m   4910\u001b[0m \u001b[43m        \u001b[49m\u001b[43mfunc\u001b[49m\u001b[43m,\u001b[49m\n\u001b[0;32m   4911\u001b[0m \u001b[43m        \u001b[49m\u001b[43mconvert_dtype\u001b[49m\u001b[38;5;241;43m=\u001b[39;49m\u001b[43mconvert_dtype\u001b[49m\u001b[43m,\u001b[49m\n\u001b[0;32m   4912\u001b[0m \u001b[43m        \u001b[49m\u001b[43mby_row\u001b[49m\u001b[38;5;241;43m=\u001b[39;49m\u001b[43mby_row\u001b[49m\u001b[43m,\u001b[49m\n\u001b[0;32m   4913\u001b[0m \u001b[43m        \u001b[49m\u001b[43margs\u001b[49m\u001b[38;5;241;43m=\u001b[39;49m\u001b[43margs\u001b[49m\u001b[43m,\u001b[49m\n\u001b[0;32m   4914\u001b[0m \u001b[43m        \u001b[49m\u001b[43mkwargs\u001b[49m\u001b[38;5;241;43m=\u001b[39;49m\u001b[43mkwargs\u001b[49m\u001b[43m,\u001b[49m\n\u001b[1;32m-> 4915\u001b[0m \u001b[43m    \u001b[49m\u001b[43m)\u001b[49m\u001b[38;5;241;43m.\u001b[39;49m\u001b[43mapply\u001b[49m\u001b[43m(\u001b[49m\u001b[43m)\u001b[49m\n",
      "File \u001b[1;32mc:\\Users\\Windows 10\\.conda\\envs\\d_science\\lib\\site-packages\\pandas\\core\\apply.py:1427\u001b[0m, in \u001b[0;36mSeriesApply.apply\u001b[1;34m(self)\u001b[0m\n\u001b[0;32m   1424\u001b[0m     \u001b[38;5;28;01mreturn\u001b[39;00m \u001b[38;5;28mself\u001b[39m\u001b[38;5;241m.\u001b[39mapply_compat()\n\u001b[0;32m   1426\u001b[0m \u001b[38;5;66;03m# self.func is Callable\u001b[39;00m\n\u001b[1;32m-> 1427\u001b[0m \u001b[38;5;28;01mreturn\u001b[39;00m \u001b[38;5;28;43mself\u001b[39;49m\u001b[38;5;241;43m.\u001b[39;49m\u001b[43mapply_standard\u001b[49m\u001b[43m(\u001b[49m\u001b[43m)\u001b[49m\n",
      "File \u001b[1;32mc:\\Users\\Windows 10\\.conda\\envs\\d_science\\lib\\site-packages\\pandas\\core\\apply.py:1507\u001b[0m, in \u001b[0;36mSeriesApply.apply_standard\u001b[1;34m(self)\u001b[0m\n\u001b[0;32m   1501\u001b[0m \u001b[38;5;66;03m# row-wise access\u001b[39;00m\n\u001b[0;32m   1502\u001b[0m \u001b[38;5;66;03m# apply doesn't have a `na_action` keyword and for backward compat reasons\u001b[39;00m\n\u001b[0;32m   1503\u001b[0m \u001b[38;5;66;03m# we need to give `na_action=\"ignore\"` for categorical data.\u001b[39;00m\n\u001b[0;32m   1504\u001b[0m \u001b[38;5;66;03m# TODO: remove the `na_action=\"ignore\"` when that default has been changed in\u001b[39;00m\n\u001b[0;32m   1505\u001b[0m \u001b[38;5;66;03m#  Categorical (GH51645).\u001b[39;00m\n\u001b[0;32m   1506\u001b[0m action \u001b[38;5;241m=\u001b[39m \u001b[38;5;124m\"\u001b[39m\u001b[38;5;124mignore\u001b[39m\u001b[38;5;124m\"\u001b[39m \u001b[38;5;28;01mif\u001b[39;00m \u001b[38;5;28misinstance\u001b[39m(obj\u001b[38;5;241m.\u001b[39mdtype, CategoricalDtype) \u001b[38;5;28;01melse\u001b[39;00m \u001b[38;5;28;01mNone\u001b[39;00m\n\u001b[1;32m-> 1507\u001b[0m mapped \u001b[38;5;241m=\u001b[39m \u001b[43mobj\u001b[49m\u001b[38;5;241;43m.\u001b[39;49m\u001b[43m_map_values\u001b[49m\u001b[43m(\u001b[49m\n\u001b[0;32m   1508\u001b[0m \u001b[43m    \u001b[49m\u001b[43mmapper\u001b[49m\u001b[38;5;241;43m=\u001b[39;49m\u001b[43mcurried\u001b[49m\u001b[43m,\u001b[49m\u001b[43m \u001b[49m\u001b[43mna_action\u001b[49m\u001b[38;5;241;43m=\u001b[39;49m\u001b[43maction\u001b[49m\u001b[43m,\u001b[49m\u001b[43m \u001b[49m\u001b[43mconvert\u001b[49m\u001b[38;5;241;43m=\u001b[39;49m\u001b[38;5;28;43mself\u001b[39;49m\u001b[38;5;241;43m.\u001b[39;49m\u001b[43mconvert_dtype\u001b[49m\n\u001b[0;32m   1509\u001b[0m \u001b[43m\u001b[49m\u001b[43m)\u001b[49m\n\u001b[0;32m   1511\u001b[0m \u001b[38;5;28;01mif\u001b[39;00m \u001b[38;5;28mlen\u001b[39m(mapped) \u001b[38;5;129;01mand\u001b[39;00m \u001b[38;5;28misinstance\u001b[39m(mapped[\u001b[38;5;241m0\u001b[39m], ABCSeries):\n\u001b[0;32m   1512\u001b[0m     \u001b[38;5;66;03m# GH#43986 Need to do list(mapped) in order to get treated as nested\u001b[39;00m\n\u001b[0;32m   1513\u001b[0m     \u001b[38;5;66;03m#  See also GH#25959 regarding EA support\u001b[39;00m\n\u001b[0;32m   1514\u001b[0m     \u001b[38;5;28;01mreturn\u001b[39;00m obj\u001b[38;5;241m.\u001b[39m_constructor_expanddim(\u001b[38;5;28mlist\u001b[39m(mapped), index\u001b[38;5;241m=\u001b[39mobj\u001b[38;5;241m.\u001b[39mindex)\n",
      "File \u001b[1;32mc:\\Users\\Windows 10\\.conda\\envs\\d_science\\lib\\site-packages\\pandas\\core\\base.py:921\u001b[0m, in \u001b[0;36mIndexOpsMixin._map_values\u001b[1;34m(self, mapper, na_action, convert)\u001b[0m\n\u001b[0;32m    918\u001b[0m \u001b[38;5;28;01mif\u001b[39;00m \u001b[38;5;28misinstance\u001b[39m(arr, ExtensionArray):\n\u001b[0;32m    919\u001b[0m     \u001b[38;5;28;01mreturn\u001b[39;00m arr\u001b[38;5;241m.\u001b[39mmap(mapper, na_action\u001b[38;5;241m=\u001b[39mna_action)\n\u001b[1;32m--> 921\u001b[0m \u001b[38;5;28;01mreturn\u001b[39;00m \u001b[43malgorithms\u001b[49m\u001b[38;5;241;43m.\u001b[39;49m\u001b[43mmap_array\u001b[49m\u001b[43m(\u001b[49m\u001b[43marr\u001b[49m\u001b[43m,\u001b[49m\u001b[43m \u001b[49m\u001b[43mmapper\u001b[49m\u001b[43m,\u001b[49m\u001b[43m \u001b[49m\u001b[43mna_action\u001b[49m\u001b[38;5;241;43m=\u001b[39;49m\u001b[43mna_action\u001b[49m\u001b[43m,\u001b[49m\u001b[43m \u001b[49m\u001b[43mconvert\u001b[49m\u001b[38;5;241;43m=\u001b[39;49m\u001b[43mconvert\u001b[49m\u001b[43m)\u001b[49m\n",
      "File \u001b[1;32mc:\\Users\\Windows 10\\.conda\\envs\\d_science\\lib\\site-packages\\pandas\\core\\algorithms.py:1743\u001b[0m, in \u001b[0;36mmap_array\u001b[1;34m(arr, mapper, na_action, convert)\u001b[0m\n\u001b[0;32m   1741\u001b[0m values \u001b[38;5;241m=\u001b[39m arr\u001b[38;5;241m.\u001b[39mastype(\u001b[38;5;28mobject\u001b[39m, copy\u001b[38;5;241m=\u001b[39m\u001b[38;5;28;01mFalse\u001b[39;00m)\n\u001b[0;32m   1742\u001b[0m \u001b[38;5;28;01mif\u001b[39;00m na_action \u001b[38;5;129;01mis\u001b[39;00m \u001b[38;5;28;01mNone\u001b[39;00m:\n\u001b[1;32m-> 1743\u001b[0m     \u001b[38;5;28;01mreturn\u001b[39;00m \u001b[43mlib\u001b[49m\u001b[38;5;241;43m.\u001b[39;49m\u001b[43mmap_infer\u001b[49m\u001b[43m(\u001b[49m\u001b[43mvalues\u001b[49m\u001b[43m,\u001b[49m\u001b[43m \u001b[49m\u001b[43mmapper\u001b[49m\u001b[43m,\u001b[49m\u001b[43m \u001b[49m\u001b[43mconvert\u001b[49m\u001b[38;5;241;43m=\u001b[39;49m\u001b[43mconvert\u001b[49m\u001b[43m)\u001b[49m\n\u001b[0;32m   1744\u001b[0m \u001b[38;5;28;01melse\u001b[39;00m:\n\u001b[0;32m   1745\u001b[0m     \u001b[38;5;28;01mreturn\u001b[39;00m lib\u001b[38;5;241m.\u001b[39mmap_infer_mask(\n\u001b[0;32m   1746\u001b[0m         values, mapper, mask\u001b[38;5;241m=\u001b[39misna(values)\u001b[38;5;241m.\u001b[39mview(np\u001b[38;5;241m.\u001b[39muint8), convert\u001b[38;5;241m=\u001b[39mconvert\n\u001b[0;32m   1747\u001b[0m     )\n",
      "File \u001b[1;32mlib.pyx:2972\u001b[0m, in \u001b[0;36mpandas._libs.lib.map_infer\u001b[1;34m()\u001b[0m\n",
      "Cell \u001b[1;32mIn[93], line 1\u001b[0m, in \u001b[0;36m<lambda>\u001b[1;34m(x)\u001b[0m\n\u001b[1;32m----> 1\u001b[0m df[\u001b[38;5;124m\"\u001b[39m\u001b[38;5;124mAndroid Ver\u001b[39m\u001b[38;5;124m\"\u001b[39m]\u001b[38;5;241m=\u001b[39mdf[\u001b[38;5;124m\"\u001b[39m\u001b[38;5;124mAndroid Ver\u001b[39m\u001b[38;5;124m\"\u001b[39m]\u001b[38;5;241m.\u001b[39mapply(\u001b[38;5;28;01mlambda\u001b[39;00m x: \u001b[43mx\u001b[49m\u001b[38;5;241;43m.\u001b[39;49m\u001b[43mreplace\u001b[49m\u001b[43m(\u001b[49m\u001b[38;5;124;43m\"\u001b[39;49m\u001b[38;5;124;43mVaries with device\u001b[39;49m\u001b[38;5;124;43m\"\u001b[39;49m\u001b[43m,\u001b[49m\u001b[43m(\u001b[49m\u001b[43mnp\u001b[49m\u001b[38;5;241;43m.\u001b[39;49m\u001b[43mnan\u001b[49m\u001b[43m)\u001b[49m\u001b[43m)\u001b[49m \u001b[38;5;28;01mif\u001b[39;00m \u001b[38;5;124m\"\u001b[39m\u001b[38;5;124mVaries with device\u001b[39m\u001b[38;5;124m\"\u001b[39m \u001b[38;5;129;01min\u001b[39;00m \u001b[38;5;28mstr\u001b[39m(x) \u001b[38;5;28;01melse\u001b[39;00m x)\n",
      "\u001b[1;31mTypeError\u001b[0m: replace() argument 2 must be str, not float"
     ]
    }
   ],
   "source": [
    "# df[\"Android Ver\"]=df[\"Android Ver\"].apply(lambda x: x.replace(\"Varies with device\",str(np.nan)) if \"Varies with device\" in str(x) else x)"
   ]
  },
  {
   "cell_type": "markdown",
   "metadata": {},
   "source": [
    "# Preprocessing completed"
   ]
  },
  {
   "cell_type": "code",
   "execution_count": 102,
   "metadata": {},
   "outputs": [
    {
     "data": {
      "text/plain": [
       "(1146, 14)"
      ]
     },
     "execution_count": 102,
     "metadata": {},
     "output_type": "execute_result"
    }
   ],
   "source": [
    "df[(df[\"Content Rating\"]=='Teen')&(df['Category']!='Social')].shape"
   ]
  },
  {
   "cell_type": "code",
   "execution_count": 107,
   "metadata": {},
   "outputs": [
    {
     "name": "stdout",
     "output_type": "stream",
     "text": [
      "Group: ('Adults only 18+', 'COMICS')\n",
      "Group: ('Adults only 18+', 'SPORTS')\n",
      "Group: ('Everyone', 'ART_AND_DESIGN')\n",
      "Group: ('Everyone', 'AUTO_AND_VEHICLES')\n",
      "Group: ('Everyone', 'BEAUTY')\n",
      "Group: ('Everyone', 'BOOKS_AND_REFERENCE')\n",
      "Group: ('Everyone', 'BUSINESS')\n",
      "Group: ('Everyone', 'COMICS')\n",
      "Group: ('Everyone', 'COMMUNICATION')\n",
      "Group: ('Everyone', 'DATING')\n",
      "Group: ('Everyone', 'EDUCATION')\n",
      "Group: ('Everyone', 'ENTERTAINMENT')\n",
      "Group: ('Everyone', 'EVENTS')\n",
      "Group: ('Everyone', 'FAMILY')\n",
      "Group: ('Everyone', 'FINANCE')\n",
      "Group: ('Everyone', 'FOOD_AND_DRINK')\n",
      "Group: ('Everyone', 'GAME')\n",
      "Group: ('Everyone', 'HEALTH_AND_FITNESS')\n",
      "Group: ('Everyone', 'HOUSE_AND_HOME')\n",
      "Group: ('Everyone', 'LIBRARIES_AND_DEMO')\n",
      "Group: ('Everyone', 'LIFESTYLE')\n",
      "Group: ('Everyone', 'MAPS_AND_NAVIGATION')\n",
      "Group: ('Everyone', 'MEDICAL')\n",
      "Group: ('Everyone', 'NEWS_AND_MAGAZINES')\n",
      "Group: ('Everyone', 'PARENTING')\n",
      "Group: ('Everyone', 'PERSONALIZATION')\n",
      "Group: ('Everyone', 'PHOTOGRAPHY')\n",
      "Group: ('Everyone', 'PRODUCTIVITY')\n",
      "Group: ('Everyone', 'SHOPPING')\n",
      "Group: ('Everyone', 'SOCIAL')\n",
      "Group: ('Everyone', 'SPORTS')\n",
      "Group: ('Everyone', 'TOOLS')\n",
      "Group: ('Everyone', 'TRAVEL_AND_LOCAL')\n",
      "Group: ('Everyone', 'VIDEO_PLAYERS')\n",
      "Group: ('Everyone', 'WEATHER')\n",
      "Group: ('Everyone 10+', 'ART_AND_DESIGN')\n",
      "Group: ('Everyone 10+', 'AUTO_AND_VEHICLES')\n",
      "Group: ('Everyone 10+', 'BEAUTY')\n",
      "Group: ('Everyone 10+', 'BOOKS_AND_REFERENCE')\n",
      "Group: ('Everyone 10+', 'BUSINESS')\n",
      "Group: ('Everyone 10+', 'COMICS')\n",
      "Group: ('Everyone 10+', 'EDUCATION')\n",
      "Group: ('Everyone 10+', 'ENTERTAINMENT')\n",
      "Group: ('Everyone 10+', 'EVENTS')\n",
      "Group: ('Everyone 10+', 'FAMILY')\n",
      "Group: ('Everyone 10+', 'FOOD_AND_DRINK')\n",
      "Group: ('Everyone 10+', 'GAME')\n",
      "Group: ('Everyone 10+', 'HEALTH_AND_FITNESS')\n",
      "Group: ('Everyone 10+', 'LIFESTYLE')\n",
      "Group: ('Everyone 10+', 'MAPS_AND_NAVIGATION')\n",
      "Group: ('Everyone 10+', 'MEDICAL')\n",
      "Group: ('Everyone 10+', 'NEWS_AND_MAGAZINES')\n",
      "Group: ('Everyone 10+', 'PERSONALIZATION')\n",
      "Group: ('Everyone 10+', 'PRODUCTIVITY')\n",
      "Group: ('Everyone 10+', 'SOCIAL')\n",
      "Group: ('Everyone 10+', 'SPORTS')\n",
      "Group: ('Everyone 10+', 'VIDEO_PLAYERS')\n",
      "Group: ('Everyone 10+', 'WEATHER')\n",
      "Group: ('Mature 17+', 'BEAUTY')\n",
      "Group: ('Mature 17+', 'BOOKS_AND_REFERENCE')\n",
      "Group: ('Mature 17+', 'BUSINESS')\n",
      "Group: ('Mature 17+', 'COMICS')\n",
      "Group: ('Mature 17+', 'COMMUNICATION')\n",
      "Group: ('Mature 17+', 'DATING')\n",
      "Group: ('Mature 17+', 'EDUCATION')\n",
      "Group: ('Mature 17+', 'ENTERTAINMENT')\n",
      "Group: ('Mature 17+', 'FAMILY')\n",
      "Group: ('Mature 17+', 'GAME')\n",
      "Group: ('Mature 17+', 'HEALTH_AND_FITNESS')\n",
      "Group: ('Mature 17+', 'LIFESTYLE')\n",
      "Group: ('Mature 17+', 'MAPS_AND_NAVIGATION')\n",
      "Group: ('Mature 17+', 'MEDICAL')\n",
      "Group: ('Mature 17+', 'NEWS_AND_MAGAZINES')\n",
      "Group: ('Mature 17+', 'PARENTING')\n",
      "Group: ('Mature 17+', 'PERSONALIZATION')\n",
      "Group: ('Mature 17+', 'PHOTOGRAPHY')\n",
      "Group: ('Mature 17+', 'PRODUCTIVITY')\n",
      "Group: ('Mature 17+', 'SHOPPING')\n",
      "Group: ('Mature 17+', 'SOCIAL')\n",
      "Group: ('Mature 17+', 'SPORTS')\n",
      "Group: ('Mature 17+', 'TOOLS')\n",
      "Group: ('Mature 17+', 'TRAVEL_AND_LOCAL')\n",
      "Group: ('Mature 17+', 'VIDEO_PLAYERS')\n",
      "Group: ('Mature 17+', 'WEATHER')\n",
      "Group: ('Teen', 'ART_AND_DESIGN')\n",
      "Group: ('Teen', 'AUTO_AND_VEHICLES')\n",
      "Group: ('Teen', 'BEAUTY')\n",
      "Group: ('Teen', 'BOOKS_AND_REFERENCE')\n",
      "Group: ('Teen', 'BUSINESS')\n",
      "Group: ('Teen', 'COMICS')\n",
      "Group: ('Teen', 'COMMUNICATION')\n",
      "Group: ('Teen', 'DATING')\n",
      "Group: ('Teen', 'EDUCATION')\n",
      "Group: ('Teen', 'ENTERTAINMENT')\n",
      "Group: ('Teen', 'EVENTS')\n",
      "Group: ('Teen', 'FAMILY')\n",
      "Group: ('Teen', 'FINANCE')\n",
      "Group: ('Teen', 'FOOD_AND_DRINK')\n",
      "Group: ('Teen', 'GAME')\n",
      "Group: ('Teen', 'HEALTH_AND_FITNESS')\n",
      "Group: ('Teen', 'HOUSE_AND_HOME')\n",
      "Group: ('Teen', 'LIFESTYLE')\n",
      "Group: ('Teen', 'MAPS_AND_NAVIGATION')\n",
      "Group: ('Teen', 'MEDICAL')\n",
      "Group: ('Teen', 'NEWS_AND_MAGAZINES')\n",
      "Group: ('Teen', 'PARENTING')\n",
      "Group: ('Teen', 'PERSONALIZATION')\n",
      "Group: ('Teen', 'PHOTOGRAPHY')\n",
      "Group: ('Teen', 'PRODUCTIVITY')\n",
      "Group: ('Teen', 'SHOPPING')\n",
      "Group: ('Teen', 'SOCIAL')\n",
      "Group: ('Teen', 'SPORTS')\n",
      "Group: ('Teen', 'TOOLS')\n",
      "Group: ('Teen', 'TRAVEL_AND_LOCAL')\n",
      "Group: ('Teen', 'VIDEO_PLAYERS')\n",
      "Group: ('Teen', 'WEATHER')\n",
      "Group: ('Unrated', 'FAMILY')\n",
      "Group: ('Unrated', 'TOOLS')\n"
     ]
    }
   ],
   "source": [
    "grouped_data=df.groupby([\"Content Rating\",'Category'])[\"Installs\"]\n",
    "grouped_data.sum().sort_values(ascending=False)\n",
    "for name,group in grouped_data:\n",
    "    print(f\"Group: {name}\")"
   ]
  },
  {
   "cell_type": "code",
   "execution_count": 94,
   "metadata": {},
   "outputs": [
    {
     "data": {
      "text/plain": [
       "Android Ver\n",
       "Varies with device    80049818782\n",
       "4.1 and up            27798248789\n",
       "4.0 and up            11325217206\n",
       "4.4 and up             9855379498\n",
       "4.0.3 and up           7275196683\n",
       "Name: Installs, dtype: int64"
      ]
     },
     "execution_count": 94,
     "metadata": {},
     "output_type": "execute_result"
    }
   ],
   "source": [
    "grouped_data=df.groupby(\"Android Ver\")[\"Installs\"].sum().sort_values(ascending=False).head()\n",
    "grouped_data\n",
    "# top 5 apps versions with the highest number of installs"
   ]
  },
  {
   "cell_type": "code",
   "execution_count": 60,
   "metadata": {},
   "outputs": [
    {
     "data": {
      "text/plain": [
       "Size\n",
       "76.0    5189110150\n",
       "13.0    3621251835\n",
       "74.0    2827110600\n",
       "24.0    2669222460\n",
       "62.0    2567551810\n",
       "Name: Installs, dtype: int64"
      ]
     },
     "execution_count": 60,
     "metadata": {},
     "output_type": "execute_result"
    }
   ],
   "source": [
    "grouped_data=df.groupby(\"Size\")[\"Installs\"].sum().sort_values(ascending=False).head()\n",
    "grouped_data\n",
    "# top 5 apps sizes with the highest number of installs"
   ]
  },
  {
   "cell_type": "code",
   "execution_count": 45,
   "metadata": {},
   "outputs": [
    {
     "data": {
      "text/plain": [
       "Price\n",
       "109.99    1\n",
       "28.99     1\n",
       "154.99    0\n",
       "200.00    0\n",
       "30.99     0\n",
       "394.99    0\n",
       "Name: Installs, dtype: int64"
      ]
     },
     "execution_count": 45,
     "metadata": {},
     "output_type": "execute_result"
    }
   ],
   "source": [
    "grouped_data=df.groupby(\"Price\")[\"Installs\"].sum().sort_values(ascending=False)\n",
    "grouped_data[grouped_data<5]\n",
    "# no specific pattern for price limit, app with price 0 has the highest number of installs\n",
    "# But app price should be zero or at max less than 30 dollars"
   ]
  },
  {
   "cell_type": "code",
   "execution_count": 40,
   "metadata": {},
   "outputs": [
    {
     "data": {
      "text/plain": [
       "Rating\n",
       "4.3    33186746710\n",
       "4.5    30438418960\n",
       "4.4    28485969100\n",
       "4.2    15729637160\n",
       "4.6    10635931800\n",
       "4.0     9591940410\n",
       "4.1     6230642600\n",
       "3.9     5067045300\n",
       "4.7     3610275010\n",
       "3.7     1671049960\n",
       "3.8      622452500\n",
       "4.8      432824990\n",
       "3.6      246616750\n",
       "3.5      232078060\n",
       "3.4      109413950\n",
       "3.1      106558500\n",
       "3.3       94851800\n",
       "4.9       43882600\n",
       "3.0       34333880\n",
       "3.2       28674400\n",
       "2.9        7191100\n",
       "2.0        5040150\n",
       "2.8        3489150\n",
       "2.7        3359700\n",
       "2.2        2130600\n",
       "2.5        2078100\n",
       "2.4        1284100\n",
       "1.8         519500\n",
       "2.6         442600\n",
       "1.9         290000\n",
       "2.3         264100\n",
       "2.1         182000\n",
       "1.6         152000\n",
       "5.0          88823\n",
       "1.7          81700\n",
       "1.4           7000\n",
       "1.0           5170\n",
       "1.5           1105\n",
       "1.2           1000\n",
       "Name: Installs, dtype: int64"
      ]
     },
     "execution_count": 40,
     "metadata": {},
     "output_type": "execute_result"
    }
   ],
   "source": [
    "df.groupby(\"Rating\")[\"Installs\"].sum().sort_values(ascending=False)"
   ]
  },
  {
   "cell_type": "code",
   "execution_count": 36,
   "metadata": {},
   "outputs": [
    {
     "data": {
      "text/plain": [
       "Category\n",
       "ART_AND_DESIGN           124338100\n",
       "AUTO_AND_VEHICLES         53130211\n",
       "BEAUTY                    27197050\n",
       "BOOKS_AND_REFERENCE     1916469576\n",
       "BUSINESS                 863664865\n",
       "COMICS                    56086150\n",
       "COMMUNICATION          24152276251\n",
       "DATING                   206536107\n",
       "EDUCATION                533952000\n",
       "ENTERTAINMENT           2455660000\n",
       "EVENTS                    15973161\n",
       "FAMILY                 10041692505\n",
       "FINANCE                  770348734\n",
       "FOOD_AND_DRINK           257898751\n",
       "GAME                   31544024415\n",
       "HEALTH_AND_FITNESS      1361022512\n",
       "HOUSE_AND_HOME           125212461\n",
       "LIBRARIES_AND_DEMO        62995910\n",
       "LIFESTYLE                534823539\n",
       "MAPS_AND_NAVIGATION      724281890\n",
       "MEDICAL                   42204177\n",
       "NEWS_AND_MAGAZINES      5393217760\n",
       "PARENTING                 31521110\n",
       "PERSONALIZATION         2074494782\n",
       "PHOTOGRAPHY             9721247655\n",
       "PRODUCTIVITY           12463091369\n",
       "SHOPPING                2573348785\n",
       "SOCIAL                 12513867902\n",
       "SPORTS                  1528574498\n",
       "TOOLS                  11452771915\n",
       "TRAVEL_AND_LOCAL        6361887146\n",
       "VIDEO_PLAYERS           6222002720\n",
       "WEATHER                  426100520\n",
       "Name: Installs, dtype: int64"
      ]
     },
     "execution_count": 36,
     "metadata": {},
     "output_type": "execute_result"
    }
   ],
   "source": [
    "# No. of installs based on category\n",
    "grouped_data=(df.groupby(\"Category\"))[\"Installs\"].sum()\n",
    "grouped_data\n",
    "# Iterate over the groups and print them\n",
    "# for name, group in grouped_data:\n",
    "#     print(f\"Group: {name}\")\n",
    "#     print(group)\n",
    "#     print()"
   ]
  }
 ],
 "metadata": {
  "kernelspec": {
   "display_name": "base",
   "language": "python",
   "name": "python3"
  },
  "language_info": {
   "codemirror_mode": {
    "name": "ipython",
    "version": 3
   },
   "file_extension": ".py",
   "mimetype": "text/x-python",
   "name": "python",
   "nbconvert_exporter": "python",
   "pygments_lexer": "ipython3",
   "version": "3.10.14"
  }
 },
 "nbformat": 4,
 "nbformat_minor": 2
}
