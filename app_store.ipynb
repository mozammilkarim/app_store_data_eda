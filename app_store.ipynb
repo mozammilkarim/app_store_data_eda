{
 "cells": [
  {
   "cell_type": "code",
   "execution_count": 1,
   "metadata": {},
   "outputs": [
    {
     "name": "stderr",
     "output_type": "stream",
     "text": [
      "c:\\Users\\Windows 10\\.conda\\envs\\d_science\\lib\\site-packages\\tqdm\\auto.py:21: TqdmWarning: IProgress not found. Please update jupyter and ipywidgets. See https://ipywidgets.readthedocs.io/en/stable/user_install.html\n",
      "  from .autonotebook import tqdm as notebook_tqdm\n"
     ]
    }
   ],
   "source": [
    "import pandas as pd\n",
    "import ydata_profiling as yd\n",
    "import numpy as np"
   ]
  },
  {
   "cell_type": "code",
   "execution_count": 2,
   "metadata": {},
   "outputs": [
    {
     "name": "stdout",
     "output_type": "stream",
     "text": [
      "<class 'pandas.core.frame.DataFrame'>\n",
      "RangeIndex: 10841 entries, 0 to 10840\n",
      "Data columns (total 13 columns):\n",
      " #   Column          Non-Null Count  Dtype  \n",
      "---  ------          --------------  -----  \n",
      " 0   App             10841 non-null  object \n",
      " 1   Category        10840 non-null  object \n",
      " 2   Rating          9367 non-null   float64\n",
      " 3   Reviews         10841 non-null  int64  \n",
      " 4   Size            10841 non-null  object \n",
      " 5   Installs        10841 non-null  object \n",
      " 6   Type            10840 non-null  object \n",
      " 7   Price           10841 non-null  object \n",
      " 8   Content Rating  10841 non-null  object \n",
      " 9   Genres          10840 non-null  object \n",
      " 10  Last Updated    10841 non-null  object \n",
      " 11  Current Ver     10833 non-null  object \n",
      " 12  Android Ver     10839 non-null  object \n",
      "dtypes: float64(1), int64(1), object(11)\n",
      "memory usage: 1.1+ MB\n"
     ]
    }
   ],
   "source": [
    "df=pd.read_csv(\"googleplaystore.csv\")\n",
    "df.info()"
   ]
  },
  {
   "cell_type": "code",
   "execution_count": 3,
   "metadata": {},
   "outputs": [
    {
     "name": "stderr",
     "output_type": "stream",
     "text": [
      "Summarize dataset:   0%|          | 0/5 [00:00<?, ?it/s]"
     ]
    },
    {
     "name": "stderr",
     "output_type": "stream",
     "text": [
      "Summarize dataset:  75%|███████▌  | 15/20 [00:01<00:00,  7.86it/s, Calculate auto correlation]     c:\\Users\\Windows 10\\.conda\\envs\\d_science\\lib\\site-packages\\ydata_profiling\\model\\correlations.py:66: UserWarning: There was an attempt to calculate the auto correlation, but this failed.\n",
      "To hide this warning, disable the calculation\n",
      "(using `df.profile_report(correlations={\"auto\": {\"calculate\": False}})`\n",
      "If this is problematic for your use case, please report this as an issue:\n",
      "https://github.com/ydataai/ydata-profiling/issues\n",
      "(include the error message: 'could not convert string to float: '4.0.3 and up'')\n",
      "  warnings.warn(\n",
      "Summarize dataset:  81%|████████▏ | 22/27 [00:03<00:01,  4.52it/s, Missing diagram heatmap]   c:\\Users\\Windows 10\\.conda\\envs\\d_science\\lib\\site-packages\\seaborn\\matrix.py:260: FutureWarning: Format strings passed to MaskedConstant are ignored, but in future may error or produce different behavior\n",
      "  annotation = (\"{:\" + self.fmt + \"}\").format(val)\n",
      "c:\\Users\\Windows 10\\.conda\\envs\\d_science\\lib\\site-packages\\ydata_profiling\\model\\missing.py:78: UserWarning: There was an attempt to generate the Heatmap missing values diagrams, but this failed.\n",
      "To hide this warning, disable the calculation\n",
      "(using `df.profile_report(missing_diagrams={\"Heatmap\": False}`)\n",
      "If this is problematic for your use case, please report this as an issue:\n",
      "https://github.com/ydataai/ydata-profiling/issues\n",
      "(include the error message: 'could not convert string to float: '--'')\n",
      "  warnings.warn(\n",
      "Summarize dataset: 100%|██████████| 27/27 [00:03<00:00,  7.86it/s, Completed]               \n",
      "Generate report structure: 100%|██████████| 1/1 [00:09<00:00,  9.40s/it]\n",
      "Render HTML: 100%|██████████| 1/1 [00:01<00:00,  1.72s/it]\n",
      "Export report to file: 100%|██████████| 1/1 [00:00<00:00, 64.18it/s]\n"
     ]
    }
   ],
   "source": [
    "profile=yd.ProfileReport(df)\n",
    "profile.to_file(\"automatic_eda_profiler.html\")"
   ]
  },
  {
   "cell_type": "code",
   "execution_count": 4,
   "metadata": {},
   "outputs": [
    {
     "data": {
      "text/html": [
       "<div>\n",
       "<style scoped>\n",
       "    .dataframe tbody tr th:only-of-type {\n",
       "        vertical-align: middle;\n",
       "    }\n",
       "\n",
       "    .dataframe tbody tr th {\n",
       "        vertical-align: top;\n",
       "    }\n",
       "\n",
       "    .dataframe thead th {\n",
       "        text-align: right;\n",
       "    }\n",
       "</style>\n",
       "<table border=\"1\" class=\"dataframe\">\n",
       "  <thead>\n",
       "    <tr style=\"text-align: right;\">\n",
       "      <th></th>\n",
       "      <th>App</th>\n",
       "      <th>Category</th>\n",
       "      <th>Rating</th>\n",
       "      <th>Reviews</th>\n",
       "      <th>Size</th>\n",
       "      <th>Installs</th>\n",
       "      <th>Type</th>\n",
       "      <th>Price</th>\n",
       "      <th>Content Rating</th>\n",
       "      <th>Genres</th>\n",
       "      <th>Last Updated</th>\n",
       "      <th>Current Ver</th>\n",
       "      <th>Android Ver</th>\n",
       "    </tr>\n",
       "  </thead>\n",
       "  <tbody>\n",
       "    <tr>\n",
       "      <th>3569</th>\n",
       "      <td>Dropbox</td>\n",
       "      <td>PRODUCTIVITY</td>\n",
       "      <td>4.4</td>\n",
       "      <td>1861309</td>\n",
       "      <td>61M</td>\n",
       "      <td>500,000,000+</td>\n",
       "      <td>Free</td>\n",
       "      <td>0</td>\n",
       "      <td>Everyone</td>\n",
       "      <td>Productivity</td>\n",
       "      <td>1-Aug-18</td>\n",
       "      <td>Varies with device</td>\n",
       "      <td>Varies with device</td>\n",
       "    </tr>\n",
       "    <tr>\n",
       "      <th>6082</th>\n",
       "      <td>Unseen - No Last Seen</td>\n",
       "      <td>TOOLS</td>\n",
       "      <td>4.4</td>\n",
       "      <td>103909</td>\n",
       "      <td>9.2M</td>\n",
       "      <td>5,000,000+</td>\n",
       "      <td>Free</td>\n",
       "      <td>0</td>\n",
       "      <td>Everyone</td>\n",
       "      <td>Tools</td>\n",
       "      <td>11-May-18</td>\n",
       "      <td>2.2.7</td>\n",
       "      <td>4.3 and up</td>\n",
       "    </tr>\n",
       "    <tr>\n",
       "      <th>642</th>\n",
       "      <td>Toronto Dating</td>\n",
       "      <td>DATING</td>\n",
       "      <td>NaN</td>\n",
       "      <td>0</td>\n",
       "      <td>14M</td>\n",
       "      <td>100+</td>\n",
       "      <td>Free</td>\n",
       "      <td>0</td>\n",
       "      <td>Mature 17+</td>\n",
       "      <td>Dating</td>\n",
       "      <td>12-Jul-18</td>\n",
       "      <td>1</td>\n",
       "      <td>4.1 and up</td>\n",
       "    </tr>\n",
       "    <tr>\n",
       "      <th>4908</th>\n",
       "      <td>A/C Air Conditioner Remote</td>\n",
       "      <td>TOOLS</td>\n",
       "      <td>3.4</td>\n",
       "      <td>7816</td>\n",
       "      <td>5.1M</td>\n",
       "      <td>1,000,000+</td>\n",
       "      <td>Free</td>\n",
       "      <td>0</td>\n",
       "      <td>Everyone</td>\n",
       "      <td>Tools</td>\n",
       "      <td>30-Jul-16</td>\n",
       "      <td>1.1.1</td>\n",
       "      <td>3.0 and up</td>\n",
       "    </tr>\n",
       "    <tr>\n",
       "      <th>6513</th>\n",
       "      <td>[BN] Blitz</td>\n",
       "      <td>SPORTS</td>\n",
       "      <td>3.2</td>\n",
       "      <td>4</td>\n",
       "      <td>5.6M</td>\n",
       "      <td>100+</td>\n",
       "      <td>Free</td>\n",
       "      <td>0</td>\n",
       "      <td>Everyone</td>\n",
       "      <td>Sports</td>\n",
       "      <td>17-May-18</td>\n",
       "      <td>4.6</td>\n",
       "      <td>4.3 and up</td>\n",
       "    </tr>\n",
       "    <tr>\n",
       "      <th>1148</th>\n",
       "      <td>Money Lover: Expense Tracker, Budget Planner</td>\n",
       "      <td>FINANCE</td>\n",
       "      <td>4.4</td>\n",
       "      <td>126447</td>\n",
       "      <td>Varies with device</td>\n",
       "      <td>1,000,000+</td>\n",
       "      <td>Free</td>\n",
       "      <td>0</td>\n",
       "      <td>Everyone</td>\n",
       "      <td>Finance</td>\n",
       "      <td>1-Aug-18</td>\n",
       "      <td>Varies with device</td>\n",
       "      <td>Varies with device</td>\n",
       "    </tr>\n",
       "    <tr>\n",
       "      <th>5146</th>\n",
       "      <td>Ah! Monster</td>\n",
       "      <td>FAMILY</td>\n",
       "      <td>4.1</td>\n",
       "      <td>1998</td>\n",
       "      <td>9.8M</td>\n",
       "      <td>100,000+</td>\n",
       "      <td>Free</td>\n",
       "      <td>0</td>\n",
       "      <td>Everyone</td>\n",
       "      <td>Casual</td>\n",
       "      <td>21-Jun-17</td>\n",
       "      <td>4.0.0</td>\n",
       "      <td>4.0 and up</td>\n",
       "    </tr>\n",
       "    <tr>\n",
       "      <th>5387</th>\n",
       "      <td>Draw a Stickman: EPIC Free</td>\n",
       "      <td>GAME</td>\n",
       "      <td>4.2</td>\n",
       "      <td>210317</td>\n",
       "      <td>46M</td>\n",
       "      <td>10,000,000+</td>\n",
       "      <td>Free</td>\n",
       "      <td>0</td>\n",
       "      <td>Everyone 10+</td>\n",
       "      <td>Adventure</td>\n",
       "      <td>10-Apr-15</td>\n",
       "      <td>1.4.3.104</td>\n",
       "      <td>2.3.3 and up</td>\n",
       "    </tr>\n",
       "    <tr>\n",
       "      <th>185</th>\n",
       "      <td>URBANO V 02 instruction manual</td>\n",
       "      <td>BOOKS_AND_REFERENCE</td>\n",
       "      <td>NaN</td>\n",
       "      <td>114</td>\n",
       "      <td>7.3M</td>\n",
       "      <td>100,000+</td>\n",
       "      <td>Free</td>\n",
       "      <td>0</td>\n",
       "      <td>Everyone</td>\n",
       "      <td>Books &amp; Reference</td>\n",
       "      <td>7-Aug-15</td>\n",
       "      <td>1.1</td>\n",
       "      <td>5.1 and up</td>\n",
       "    </tr>\n",
       "    <tr>\n",
       "      <th>37</th>\n",
       "      <td>Floor Plan Creator</td>\n",
       "      <td>ART_AND_DESIGN</td>\n",
       "      <td>4.1</td>\n",
       "      <td>36639</td>\n",
       "      <td>Varies with device</td>\n",
       "      <td>5,000,000+</td>\n",
       "      <td>Free</td>\n",
       "      <td>0</td>\n",
       "      <td>Everyone</td>\n",
       "      <td>Art &amp; Design</td>\n",
       "      <td>14-Jul-18</td>\n",
       "      <td>Varies with device</td>\n",
       "      <td>2.3.3 and up</td>\n",
       "    </tr>\n",
       "  </tbody>\n",
       "</table>\n",
       "</div>"
      ],
      "text/plain": [
       "                                               App             Category  \\\n",
       "3569                                       Dropbox         PRODUCTIVITY   \n",
       "6082                         Unseen - No Last Seen                TOOLS   \n",
       "642                                 Toronto Dating               DATING   \n",
       "4908                    A/C Air Conditioner Remote                TOOLS   \n",
       "6513                                    [BN] Blitz               SPORTS   \n",
       "1148  Money Lover: Expense Tracker, Budget Planner              FINANCE   \n",
       "5146                                   Ah! Monster               FAMILY   \n",
       "5387                    Draw a Stickman: EPIC Free                 GAME   \n",
       "185                 URBANO V 02 instruction manual  BOOKS_AND_REFERENCE   \n",
       "37                              Floor Plan Creator       ART_AND_DESIGN   \n",
       "\n",
       "      Rating  Reviews                Size      Installs  Type Price  \\\n",
       "3569     4.4  1861309                 61M  500,000,000+  Free     0   \n",
       "6082     4.4   103909                9.2M    5,000,000+  Free     0   \n",
       "642      NaN        0                 14M          100+  Free     0   \n",
       "4908     3.4     7816                5.1M    1,000,000+  Free     0   \n",
       "6513     3.2        4                5.6M          100+  Free     0   \n",
       "1148     4.4   126447  Varies with device    1,000,000+  Free     0   \n",
       "5146     4.1     1998                9.8M      100,000+  Free     0   \n",
       "5387     4.2   210317                 46M   10,000,000+  Free     0   \n",
       "185      NaN      114                7.3M      100,000+  Free     0   \n",
       "37       4.1    36639  Varies with device    5,000,000+  Free     0   \n",
       "\n",
       "     Content Rating             Genres Last Updated         Current Ver  \\\n",
       "3569       Everyone       Productivity     1-Aug-18  Varies with device   \n",
       "6082       Everyone              Tools    11-May-18               2.2.7   \n",
       "642      Mature 17+             Dating    12-Jul-18                   1   \n",
       "4908       Everyone              Tools    30-Jul-16               1.1.1   \n",
       "6513       Everyone             Sports    17-May-18                 4.6   \n",
       "1148       Everyone            Finance     1-Aug-18  Varies with device   \n",
       "5146       Everyone             Casual    21-Jun-17               4.0.0   \n",
       "5387   Everyone 10+          Adventure    10-Apr-15           1.4.3.104   \n",
       "185        Everyone  Books & Reference     7-Aug-15                 1.1   \n",
       "37         Everyone       Art & Design    14-Jul-18  Varies with device   \n",
       "\n",
       "             Android Ver  \n",
       "3569  Varies with device  \n",
       "6082          4.3 and up  \n",
       "642           4.1 and up  \n",
       "4908          3.0 and up  \n",
       "6513          4.3 and up  \n",
       "1148  Varies with device  \n",
       "5146          4.0 and up  \n",
       "5387        2.3.3 and up  \n",
       "185           5.1 and up  \n",
       "37          2.3.3 and up  "
      ]
     },
     "execution_count": 4,
     "metadata": {},
     "output_type": "execute_result"
    }
   ],
   "source": [
    "df.sample(10)"
   ]
  },
  {
   "cell_type": "code",
   "execution_count": 5,
   "metadata": {},
   "outputs": [
    {
     "data": {
      "text/plain": [
       "Price\n",
       "0          10041\n",
       "$0.99        148\n",
       "$2.99        129\n",
       "$1.99         73\n",
       "$4.99         72\n",
       "           ...  \n",
       "$19.90         1\n",
       "$1.75          1\n",
       "$14.00         1\n",
       "$4.85          1\n",
       "$1.04          1\n",
       "Name: count, Length: 92, dtype: int64"
      ]
     },
     "execution_count": 5,
     "metadata": {},
     "output_type": "execute_result"
    }
   ],
   "source": [
    "df[\"Price\"].value_counts()"
   ]
  },
  {
   "cell_type": "code",
   "execution_count": 6,
   "metadata": {},
   "outputs": [],
   "source": [
    "# drop duplicate rows\n",
    "df.drop_duplicates(inplace=True)"
   ]
  },
  {
   "cell_type": "code",
   "execution_count": 7,
   "metadata": {},
   "outputs": [
    {
     "data": {
      "text/plain": [
       "Size\n",
       "Varies with device    1526\n",
       "11M                    188\n",
       "13M                    186\n",
       "12M                    186\n",
       "14M                    182\n",
       "                      ... \n",
       "430k                     1\n",
       "429k                     1\n",
       "200k                     1\n",
       "460k                     1\n",
       "619k                     1\n",
       "Name: count, Length: 461, dtype: int64"
      ]
     },
     "execution_count": 7,
     "metadata": {},
     "output_type": "execute_result"
    }
   ],
   "source": [
    "df[\"Size\"].value_counts()"
   ]
  },
  {
   "cell_type": "markdown",
   "metadata": {},
   "source": [
    "## Because of typecasting issue with nan , first we will convert k into M, remove M (as all data will be in M unit ) and then deal with nan"
   ]
  },
  {
   "cell_type": "code",
   "execution_count": 8,
   "metadata": {},
   "outputs": [
    {
     "data": {
      "text/plain": [
       "Size\n",
       "Varies with device    1526\n",
       "11M                    188\n",
       "13M                    186\n",
       "12M                    186\n",
       "14M                    182\n",
       "                      ... \n",
       "430k                     1\n",
       "429k                     1\n",
       "200k                     1\n",
       "460k                     1\n",
       "619k                     1\n",
       "Name: count, Length: 461, dtype: int64"
      ]
     },
     "execution_count": 8,
     "metadata": {},
     "output_type": "execute_result"
    }
   ],
   "source": [
    "df[\"Size\"].value_counts()"
   ]
  },
  {
   "cell_type": "code",
   "execution_count": 9,
   "metadata": {},
   "outputs": [],
   "source": [
    "def convert_data_sizes(val):\n",
    "    if 'k' in val:\n",
    "        return (float((val.split(\"k\"))[0])/1024)\n",
    "    elif 'M' in val:\n",
    "        return (val.split(\"M\"))[0]\n",
    "    else :\n",
    "        return np.nan"
   ]
  },
  {
   "cell_type": "code",
   "execution_count": 10,
   "metadata": {},
   "outputs": [],
   "source": [
    "df[\"Size\"]=df[\"Size\"].apply(convert_data_sizes)"
   ]
  },
  {
   "cell_type": "code",
   "execution_count": 11,
   "metadata": {},
   "outputs": [
    {
     "data": {
      "text/plain": [
       "Size\n",
       "11          188\n",
       "12          186\n",
       "13          186\n",
       "14          182\n",
       "15          174\n",
       "           ... \n",
       "0.419922      1\n",
       "0.418945      1\n",
       "0.195312      1\n",
       "0.449219      1\n",
       "0.604492      1\n",
       "Name: count, Length: 460, dtype: int64"
      ]
     },
     "execution_count": 11,
     "metadata": {},
     "output_type": "execute_result"
    }
   ],
   "source": [
    "df[\"Size\"].value_counts()"
   ]
  },
  {
   "cell_type": "code",
   "execution_count": 12,
   "metadata": {},
   "outputs": [
    {
     "data": {
      "text/plain": [
       "1914    NaN\n",
       "68      NaN\n",
       "3619    5.2\n",
       "7822    8.5\n",
       "7379    3.2\n",
       "Name: Size, dtype: object"
      ]
     },
     "execution_count": 12,
     "metadata": {},
     "output_type": "execute_result"
    }
   ],
   "source": [
    "df[\"Size\"].sample(5)"
   ]
  },
  {
   "cell_type": "code",
   "execution_count": 8,
   "metadata": {},
   "outputs": [
    {
     "name": "stderr",
     "output_type": "stream",
     "text": [
      "C:\\Users\\Windows 10\\AppData\\Local\\Temp\\ipykernel_5352\\1002473983.py:1: FutureWarning: Downcasting behavior in `replace` is deprecated and will be removed in a future version. To retain the old behavior, explicitly call `result.infer_objects(copy=False)`. To opt-in to the future behavior, set `pd.set_option('future.no_silent_downcasting', True)`\n",
      "  df[df[\"Size\"]=='Varies with device'][\"Size\"].replace(to_replace=\"Varies with device\",value=np.nan,inplace=True)\n",
      "C:\\Users\\Windows 10\\AppData\\Local\\Temp\\ipykernel_5352\\1002473983.py:1: SettingWithCopyWarning: \n",
      "A value is trying to be set on a copy of a slice from a DataFrame\n",
      "\n",
      "See the caveats in the documentation: https://pandas.pydata.org/pandas-docs/stable/user_guide/indexing.html#returning-a-view-versus-a-copy\n",
      "  df[df[\"Size\"]=='Varies with device'][\"Size\"].replace(to_replace=\"Varies with device\",value=np.nan,inplace=True)\n"
     ]
    }
   ],
   "source": [
    "# df[df[\"Size\"]=='Varies with device'][\"Size\"].replace(to_replace=\"Varies with device\",value=np.nan,inplace=True)"
   ]
  },
  {
   "cell_type": "code",
   "execution_count": null,
   "metadata": {},
   "outputs": [],
   "source": [
    "df[\"Size\"].dtype"
   ]
  },
  {
   "cell_type": "code",
   "execution_count": 15,
   "metadata": {},
   "outputs": [],
   "source": [
    "df[\"Size\"]=df[\"Size\"].astype(dtype=\"float64\")"
   ]
  },
  {
   "cell_type": "code",
   "execution_count": 17,
   "metadata": {},
   "outputs": [
    {
     "data": {
      "text/plain": [
       "dtype('float64')"
      ]
     },
     "execution_count": 17,
     "metadata": {},
     "output_type": "execute_result"
    }
   ],
   "source": [
    "df[\"Size\"].dtype"
   ]
  },
  {
   "cell_type": "markdown",
   "metadata": {},
   "source": [
    "# coming to installs\n"
   ]
  },
  {
   "cell_type": "code",
   "execution_count": 29,
   "metadata": {},
   "outputs": [],
   "source": [
    "def remove_plus_sign(val):\n",
    "    val=val.replace(\",\",\"\") \n",
    "    # converting ',' based numbers to base 10 numbers\n",
    "    if '+' in val:\n",
    "        return int((val.split(\"+\"))[0])\n",
    "    else :\n",
    "        return int(val)"
   ]
  },
  {
   "cell_type": "code",
   "execution_count": 28,
   "metadata": {},
   "outputs": [
    {
     "data": {
      "text/plain": [
       "'1000000'"
      ]
     },
     "execution_count": 28,
     "metadata": {},
     "output_type": "execute_result"
    }
   ],
   "source": [
    "\"1000,000\".replace(\",\",\"\") "
   ]
  },
  {
   "cell_type": "code",
   "execution_count": 30,
   "metadata": {},
   "outputs": [],
   "source": [
    "df[\"Installs\"]=df[\"Installs\"].apply(remove_plus_sign)"
   ]
  },
  {
   "cell_type": "code",
   "execution_count": 32,
   "metadata": {},
   "outputs": [
    {
     "data": {
      "text/plain": [
       "dtype('int64')"
      ]
     },
     "execution_count": 32,
     "metadata": {},
     "output_type": "execute_result"
    }
   ],
   "source": [
    "df[\"Installs\"].dtype"
   ]
  },
  {
   "cell_type": "code",
   "execution_count": 33,
   "metadata": {},
   "outputs": [
    {
     "data": {
      "text/html": [
       "<div>\n",
       "<style scoped>\n",
       "    .dataframe tbody tr th:only-of-type {\n",
       "        vertical-align: middle;\n",
       "    }\n",
       "\n",
       "    .dataframe tbody tr th {\n",
       "        vertical-align: top;\n",
       "    }\n",
       "\n",
       "    .dataframe thead th {\n",
       "        text-align: right;\n",
       "    }\n",
       "</style>\n",
       "<table border=\"1\" class=\"dataframe\">\n",
       "  <thead>\n",
       "    <tr style=\"text-align: right;\">\n",
       "      <th></th>\n",
       "      <th>App</th>\n",
       "      <th>Category</th>\n",
       "      <th>Rating</th>\n",
       "      <th>Reviews</th>\n",
       "      <th>Size</th>\n",
       "      <th>Installs</th>\n",
       "      <th>Type</th>\n",
       "      <th>Price</th>\n",
       "      <th>Content Rating</th>\n",
       "      <th>Genres</th>\n",
       "      <th>Last Updated</th>\n",
       "      <th>Current Ver</th>\n",
       "      <th>Android Ver</th>\n",
       "    </tr>\n",
       "  </thead>\n",
       "  <tbody>\n",
       "    <tr>\n",
       "      <th>8679</th>\n",
       "      <td>Dp for girls</td>\n",
       "      <td>ART_AND_DESIGN</td>\n",
       "      <td>4.2</td>\n",
       "      <td>175</td>\n",
       "      <td>8.2</td>\n",
       "      <td>50000</td>\n",
       "      <td>Free</td>\n",
       "      <td>0</td>\n",
       "      <td>Everyone</td>\n",
       "      <td>Art &amp; Design</td>\n",
       "      <td>26-May-17</td>\n",
       "      <td>1.2</td>\n",
       "      <td>4.0.3 and up</td>\n",
       "    </tr>\n",
       "    <tr>\n",
       "      <th>1601</th>\n",
       "      <td>JOANN - Crafts &amp; Coupons</td>\n",
       "      <td>LIFESTYLE</td>\n",
       "      <td>4.6</td>\n",
       "      <td>34782</td>\n",
       "      <td>12.0</td>\n",
       "      <td>1000000</td>\n",
       "      <td>Free</td>\n",
       "      <td>0</td>\n",
       "      <td>Everyone</td>\n",
       "      <td>Lifestyle</td>\n",
       "      <td>22-Jun-18</td>\n",
       "      <td>5.2.2</td>\n",
       "      <td>4.3 and up</td>\n",
       "    </tr>\n",
       "    <tr>\n",
       "      <th>6340</th>\n",
       "      <td>BLACKJACK!</td>\n",
       "      <td>GAME</td>\n",
       "      <td>4.4</td>\n",
       "      <td>524467</td>\n",
       "      <td>33.0</td>\n",
       "      <td>10000000</td>\n",
       "      <td>Free</td>\n",
       "      <td>0</td>\n",
       "      <td>Teen</td>\n",
       "      <td>Casino</td>\n",
       "      <td>7-Jul-16</td>\n",
       "      <td>1.126</td>\n",
       "      <td>2.3.3 and up</td>\n",
       "    </tr>\n",
       "    <tr>\n",
       "      <th>6951</th>\n",
       "      <td>BX Mobile TMC for SAP B1</td>\n",
       "      <td>BUSINESS</td>\n",
       "      <td>4.7</td>\n",
       "      <td>3</td>\n",
       "      <td>11.0</td>\n",
       "      <td>100</td>\n",
       "      <td>Free</td>\n",
       "      <td>0</td>\n",
       "      <td>Everyone</td>\n",
       "      <td>Business</td>\n",
       "      <td>20-Jan-15</td>\n",
       "      <td>1.0.16</td>\n",
       "      <td>4.0.3 and up</td>\n",
       "    </tr>\n",
       "    <tr>\n",
       "      <th>7982</th>\n",
       "      <td>Easy Resume Builder, Resume help, Curriculum v...</td>\n",
       "      <td>TOOLS</td>\n",
       "      <td>4.3</td>\n",
       "      <td>996</td>\n",
       "      <td>10.0</td>\n",
       "      <td>50000</td>\n",
       "      <td>Free</td>\n",
       "      <td>0</td>\n",
       "      <td>Everyone</td>\n",
       "      <td>Tools</td>\n",
       "      <td>28-Sep-17</td>\n",
       "      <td>2.3</td>\n",
       "      <td>4.0.3 and up</td>\n",
       "    </tr>\n",
       "  </tbody>\n",
       "</table>\n",
       "</div>"
      ],
      "text/plain": [
       "                                                    App        Category  \\\n",
       "8679                                       Dp for girls  ART_AND_DESIGN   \n",
       "1601                           JOANN - Crafts & Coupons       LIFESTYLE   \n",
       "6340                                         BLACKJACK!            GAME   \n",
       "6951                           BX Mobile TMC for SAP B1        BUSINESS   \n",
       "7982  Easy Resume Builder, Resume help, Curriculum v...           TOOLS   \n",
       "\n",
       "      Rating  Reviews  Size  Installs  Type Price Content Rating  \\\n",
       "8679     4.2      175   8.2     50000  Free     0       Everyone   \n",
       "1601     4.6    34782  12.0   1000000  Free     0       Everyone   \n",
       "6340     4.4   524467  33.0  10000000  Free     0           Teen   \n",
       "6951     4.7        3  11.0       100  Free     0       Everyone   \n",
       "7982     4.3      996  10.0     50000  Free     0       Everyone   \n",
       "\n",
       "            Genres Last Updated Current Ver   Android Ver  \n",
       "8679  Art & Design    26-May-17         1.2  4.0.3 and up  \n",
       "1601     Lifestyle    22-Jun-18       5.2.2    4.3 and up  \n",
       "6340        Casino     7-Jul-16       1.126  2.3.3 and up  \n",
       "6951      Business    20-Jan-15      1.0.16  4.0.3 and up  \n",
       "7982         Tools    28-Sep-17         2.3  4.0.3 and up  "
      ]
     },
     "execution_count": 33,
     "metadata": {},
     "output_type": "execute_result"
    }
   ],
   "source": [
    "# grouping\n",
    "df.sample(5)"
   ]
  },
  {
   "cell_type": "code",
   "execution_count": 34,
   "metadata": {},
   "outputs": [],
   "source": [
    "def new_install_group(val):\n",
    "    if val<1000:\n",
    "        return \"Under 1000\"\n",
    "    elif (val<10000) :\n",
    "        return \"Under 10000\"\n",
    "    elif (val<50000) :\n",
    "        return \"Under 50000\"\n",
    "    else:\n",
    "        return \"Above 50000\"\n",
    "        "
   ]
  },
  {
   "cell_type": "code",
   "execution_count": 36,
   "metadata": {},
   "outputs": [],
   "source": [
    "df[\"Installs_new_group\"]=df[\"Installs\"].apply(new_install_group)"
   ]
  },
  {
   "cell_type": "code",
   "execution_count": 37,
   "metadata": {},
   "outputs": [
    {
     "data": {
      "text/html": [
       "<div>\n",
       "<style scoped>\n",
       "    .dataframe tbody tr th:only-of-type {\n",
       "        vertical-align: middle;\n",
       "    }\n",
       "\n",
       "    .dataframe tbody tr th {\n",
       "        vertical-align: top;\n",
       "    }\n",
       "\n",
       "    .dataframe thead th {\n",
       "        text-align: right;\n",
       "    }\n",
       "</style>\n",
       "<table border=\"1\" class=\"dataframe\">\n",
       "  <thead>\n",
       "    <tr style=\"text-align: right;\">\n",
       "      <th></th>\n",
       "      <th>App</th>\n",
       "      <th>Category</th>\n",
       "      <th>Rating</th>\n",
       "      <th>Reviews</th>\n",
       "      <th>Size</th>\n",
       "      <th>Installs</th>\n",
       "      <th>Type</th>\n",
       "      <th>Price</th>\n",
       "      <th>Content Rating</th>\n",
       "      <th>Genres</th>\n",
       "      <th>Last Updated</th>\n",
       "      <th>Current Ver</th>\n",
       "      <th>Android Ver</th>\n",
       "      <th>Installs_new_group</th>\n",
       "    </tr>\n",
       "  </thead>\n",
       "  <tbody>\n",
       "    <tr>\n",
       "      <th>7737</th>\n",
       "      <td>CQ Electrical Group</td>\n",
       "      <td>PRODUCTIVITY</td>\n",
       "      <td>NaN</td>\n",
       "      <td>0</td>\n",
       "      <td>14.0</td>\n",
       "      <td>1</td>\n",
       "      <td>Free</td>\n",
       "      <td>0</td>\n",
       "      <td>Everyone</td>\n",
       "      <td>Productivity</td>\n",
       "      <td>19-Jul-18</td>\n",
       "      <td>1.0.0</td>\n",
       "      <td>4.1 and up</td>\n",
       "      <td>Under 1000</td>\n",
       "    </tr>\n",
       "    <tr>\n",
       "      <th>7943</th>\n",
       "      <td>Curriculum Vitae</td>\n",
       "      <td>BUSINESS</td>\n",
       "      <td>3.7</td>\n",
       "      <td>3757</td>\n",
       "      <td>5.0</td>\n",
       "      <td>1000000</td>\n",
       "      <td>Free</td>\n",
       "      <td>0</td>\n",
       "      <td>Everyone</td>\n",
       "      <td>Business</td>\n",
       "      <td>29-Mar-16</td>\n",
       "      <td>2.8</td>\n",
       "      <td>2.3.3 and up</td>\n",
       "      <td>Above 50000</td>\n",
       "    </tr>\n",
       "    <tr>\n",
       "      <th>4905</th>\n",
       "      <td>AC REMOTE UNIVERSAL-PRO</td>\n",
       "      <td>FAMILY</td>\n",
       "      <td>1.6</td>\n",
       "      <td>402</td>\n",
       "      <td>1.7</td>\n",
       "      <td>100000</td>\n",
       "      <td>Free</td>\n",
       "      <td>0</td>\n",
       "      <td>Everyone</td>\n",
       "      <td>Entertainment</td>\n",
       "      <td>11-Dec-15</td>\n",
       "      <td>1</td>\n",
       "      <td>2.2 and up</td>\n",
       "      <td>Above 50000</td>\n",
       "    </tr>\n",
       "    <tr>\n",
       "      <th>341</th>\n",
       "      <td>Hangouts</td>\n",
       "      <td>COMMUNICATION</td>\n",
       "      <td>4.0</td>\n",
       "      <td>3419249</td>\n",
       "      <td>NaN</td>\n",
       "      <td>1000000000</td>\n",
       "      <td>Free</td>\n",
       "      <td>0</td>\n",
       "      <td>Everyone</td>\n",
       "      <td>Communication</td>\n",
       "      <td>21-Jul-18</td>\n",
       "      <td>Varies with device</td>\n",
       "      <td>Varies with device</td>\n",
       "      <td>Above 50000</td>\n",
       "    </tr>\n",
       "    <tr>\n",
       "      <th>2314</th>\n",
       "      <td>OneTouch Reveal</td>\n",
       "      <td>MEDICAL</td>\n",
       "      <td>3.9</td>\n",
       "      <td>6266</td>\n",
       "      <td>34.0</td>\n",
       "      <td>500000</td>\n",
       "      <td>Free</td>\n",
       "      <td>0</td>\n",
       "      <td>Everyone</td>\n",
       "      <td>Medical</td>\n",
       "      <td>22-May-18</td>\n",
       "      <td>3.5</td>\n",
       "      <td>5.1 and up</td>\n",
       "      <td>Above 50000</td>\n",
       "    </tr>\n",
       "  </tbody>\n",
       "</table>\n",
       "</div>"
      ],
      "text/plain": [
       "                          App       Category  Rating  Reviews  Size  \\\n",
       "7737      CQ Electrical Group   PRODUCTIVITY     NaN        0  14.0   \n",
       "7943         Curriculum Vitae       BUSINESS     3.7     3757   5.0   \n",
       "4905  AC REMOTE UNIVERSAL-PRO         FAMILY     1.6      402   1.7   \n",
       "341                  Hangouts  COMMUNICATION     4.0  3419249   NaN   \n",
       "2314          OneTouch Reveal        MEDICAL     3.9     6266  34.0   \n",
       "\n",
       "        Installs  Type Price Content Rating         Genres Last Updated  \\\n",
       "7737           1  Free     0       Everyone   Productivity    19-Jul-18   \n",
       "7943     1000000  Free     0       Everyone       Business    29-Mar-16   \n",
       "4905      100000  Free     0       Everyone  Entertainment    11-Dec-15   \n",
       "341   1000000000  Free     0       Everyone  Communication    21-Jul-18   \n",
       "2314      500000  Free     0       Everyone        Medical    22-May-18   \n",
       "\n",
       "             Current Ver         Android Ver Installs_new_group  \n",
       "7737               1.0.0          4.1 and up         Under 1000  \n",
       "7943                 2.8        2.3.3 and up        Above 50000  \n",
       "4905                   1          2.2 and up        Above 50000  \n",
       "341   Varies with device  Varies with device        Above 50000  \n",
       "2314                 3.5          5.1 and up        Above 50000  "
      ]
     },
     "execution_count": 37,
     "metadata": {},
     "output_type": "execute_result"
    }
   ],
   "source": [
    "df.sample(5)"
   ]
  }
 ],
 "metadata": {
  "kernelspec": {
   "display_name": "base",
   "language": "python",
   "name": "python3"
  },
  "language_info": {
   "codemirror_mode": {
    "name": "ipython",
    "version": 3
   },
   "file_extension": ".py",
   "mimetype": "text/x-python",
   "name": "python",
   "nbconvert_exporter": "python",
   "pygments_lexer": "ipython3",
   "version": "3.10.14"
  }
 },
 "nbformat": 4,
 "nbformat_minor": 2
}
